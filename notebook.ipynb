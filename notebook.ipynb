{
  "cells": [
    {
      "cell_type": "markdown",
      "metadata": {
        "id": "6FHGJv96hxdV"
      },
      "source": [
        "## Data Cleaning & Preprocessing"
      ]
    },
    {
      "cell_type": "markdown",
      "metadata": {
        "id": "LCYzpiRXhxdX"
      },
      "source": [
        "### Import Libraries"
      ]
    },
    {
      "cell_type": "code",
      "execution_count": 1,
      "metadata": {
        "id": "xR3ZcaXmhxdX"
      },
      "outputs": [],
      "source": [
        "import pandas as pd\n",
        "import numpy as np"
      ]
    },
    {
      "cell_type": "markdown",
      "metadata": {
        "id": "zl13JosKhxdY"
      },
      "source": [
        "### 1. Load Data"
      ]
    },
    {
      "cell_type": "code",
      "execution_count": 2,
      "metadata": {
        "colab": {
          "base_uri": "https://localhost:8080/"
        },
        "id": "1sYbT2HihxdY",
        "outputId": "4780b5bc-bda8-44a7-a49b-c97ae2480260"
      },
      "outputs": [
        {
          "output_type": "stream",
          "name": "stdout",
          "text": [
            "======================================================================\n",
            "STEP 1: LOADING DATA\n",
            "======================================================================\n",
            "✓ Data loaded successfully: 105434 rows, 11 columns\n",
            "\n",
            "Initial columns: ['work_year', 'experience_level', 'employment_type', 'job_title', 'salary', 'salary_currency', 'salary_in_usd', 'employee_residence', 'remote_ratio', 'company_location', 'company_size']\n",
            "\n",
            "First few rows:\n",
            "   work_year experience_level employment_type      job_title  salary  \\\n",
            "0       2025               EN              FT   Data Analist   65664   \n",
            "1       2025               EN              FT   Data Analist   47652   \n",
            "2       2025               EN              FT  Data Engineer  158113   \n",
            "3       2025               EN              FT  Data Engineer   87795   \n",
            "4       2025               EX              FT  Data Engineer  351410   \n",
            "\n",
            "  salary_currency  salary_in_usd employee_residence  remote_ratio  \\\n",
            "0             EUR          69120                 NL             0   \n",
            "1             EUR          50160                 NL             0   \n",
            "2             USD         158113                 US             0   \n",
            "3             USD          87795                 US             0   \n",
            "4             USD         351410                 US             0   \n",
            "\n",
            "  company_location company_size  \n",
            "0               NL            M  \n",
            "1               NL            M  \n",
            "2               US            M  \n",
            "3               US            M  \n",
            "4               US            M  \n"
          ]
        }
      ],
      "source": [
        "print(\"=\"*70)\n",
        "print(\"STEP 1: LOADING DATA\")\n",
        "print(\"=\"*70)\n",
        "data = pd.read_csv('salaries.csv')\n",
        "print(f\"✓ Data loaded successfully: {data.shape[0]} rows, {data.shape[1]} columns\")\n",
        "print(\"\\nInitial columns:\", list(data.columns))\n",
        "print(\"\\nFirst few rows:\")\n",
        "print(data.head())"
      ]
    },
    {
      "cell_type": "markdown",
      "metadata": {
        "id": "9-4DUnXahxdY"
      },
      "source": [
        "### 2.Drop Unnecessary Columns"
      ]
    },
    {
      "cell_type": "code",
      "execution_count": 3,
      "metadata": {
        "colab": {
          "base_uri": "https://localhost:8080/"
        },
        "id": "oF85qEnnhxdY",
        "outputId": "3e470630-361c-4712-e2e8-81ba854226f4"
      },
      "outputs": [
        {
          "output_type": "stream",
          "name": "stdout",
          "text": [
            "\n",
            "======================================================================\n",
            "STEP 2: DROPPING UNNECESSARY COLUMNS\n",
            "======================================================================\n",
            "Dropping columns: ['salary', 'salary_currency']\n",
            "✓ Columns dropped. Remaining columns: ['work_year', 'experience_level', 'employment_type', 'job_title', 'salary_in_usd', 'employee_residence', 'remote_ratio', 'company_location', 'company_size']\n",
            "✓ New shape: 105434 rows, 9 columns\n"
          ]
        }
      ],
      "source": [
        "print(\"\\n\" + \"=\"*70)\n",
        "print(\"STEP 2: DROPPING UNNECESSARY COLUMNS\")\n",
        "print(\"=\"*70)\n",
        "columns_to_drop = ['salary', 'salary_currency']\n",
        "print(f\"Dropping columns: {columns_to_drop}\")\n",
        "data = data.drop(columns_to_drop, axis=1)\n",
        "print(f\"✓ Columns dropped. Remaining columns: {list(data.columns)}\")\n",
        "print(f\"✓ New shape: {data.shape[0]} rows, {data.shape[1]} columns\")"
      ]
    },
    {
      "cell_type": "markdown",
      "metadata": {
        "id": "irqo6KB5hxdZ"
      },
      "source": [
        "### 3.Check for Missing Values"
      ]
    },
    {
      "cell_type": "code",
      "execution_count": 4,
      "metadata": {
        "colab": {
          "base_uri": "https://localhost:8080/"
        },
        "id": "kx9O-N4RhxdZ",
        "outputId": "7e5c9841-3f91-4133-d428-e6f3a78c12d7"
      },
      "outputs": [
        {
          "output_type": "stream",
          "name": "stdout",
          "text": [
            "\n",
            "======================================================================\n",
            "STEP 3: CHECKING FOR MISSING VALUES\n",
            "======================================================================\n",
            "\n",
            "Missing values per column:\n",
            "work_year             0\n",
            "experience_level      0\n",
            "employment_type       0\n",
            "job_title             0\n",
            "salary_in_usd         0\n",
            "employee_residence    0\n",
            "remote_ratio          0\n",
            "company_location      0\n",
            "company_size          0\n",
            "dtype: int64\n",
            "\n",
            "✓ No missing values found in the dataset!\n"
          ]
        }
      ],
      "source": [
        "print(\"\\n\" + \"=\"*70)\n",
        "print(\"STEP 3: CHECKING FOR MISSING VALUES\")\n",
        "print(\"=\"*70)\n",
        "missing_values = data.isnull().sum()\n",
        "print(\"\\nMissing values per column:\")\n",
        "print(missing_values)\n",
        "if missing_values.sum() == 0:\n",
        "    print(\"\\n✓ No missing values found in the dataset!\")\n",
        "else:\n",
        "    print(f\"\\n⚠ Total missing values: {missing_values.sum()}\")"
      ]
    },
    {
      "cell_type": "markdown",
      "metadata": {
        "id": "nvl0YYfAhxdZ"
      },
      "source": [
        "### 4.Handle Rare Job Titles"
      ]
    },
    {
      "cell_type": "code",
      "execution_count": 5,
      "metadata": {
        "colab": {
          "base_uri": "https://localhost:8080/"
        },
        "id": "S_0bpqAjhxdZ",
        "outputId": "54acb23e-2105-451d-dddd-8c0331c0bd03"
      },
      "outputs": [
        {
          "output_type": "stream",
          "name": "stdout",
          "text": [
            "\n",
            "======================================================================\n",
            "STEP 4: HANDLING RARE JOB TITLES\n",
            "======================================================================\n",
            "Grouping job titles that appear less than 5 times into 'Other' category...\n",
            "\n",
            "Total unique job titles before grouping: 347\n",
            "Number of rare job titles (< 5 occurrences): 106\n",
            "\n",
            "Examples of rare job titles being grouped:\n",
            "['Cloud Data Engineer', 'Tableau Developer', 'Backend Developer', 'Technical Support Specialist', 'Java Developer', 'Financial Data Analyst', 'Data Reporter', 'Business Development Representative', 'Data Analytics Business Partner', 'Data Integrity Specialist']\n",
            "\n",
            "✓ Total unique job titles after grouping: 242\n",
            "✓ Rows labeled as 'Other': 216\n"
          ]
        }
      ],
      "source": [
        "print(\"\\n\" + \"=\"*70)\n",
        "print(\"STEP 4: HANDLING RARE JOB TITLES\")\n",
        "print(\"=\"*70)\n",
        "print(\"Grouping job titles that appear less than 5 times into 'Other' category...\")\n",
        "\n",
        "# Count job title occurrences\n",
        "job_counts = data['job_title'].value_counts()\n",
        "print(f\"\\nTotal unique job titles before grouping: {len(job_counts)}\")\n",
        "\n",
        "# Identify rare jobs (appearing <5 times)\n",
        "rare_jobs = job_counts[job_counts < 5].index\n",
        "print(f\"Number of rare job titles (< 5 occurrences): {len(rare_jobs)}\")\n",
        "\n",
        "if len(rare_jobs) > 0:\n",
        "    print(f\"\\nExamples of rare job titles being grouped:\")\n",
        "    print(list(rare_jobs[:10]))  # Show first 10 examples\n",
        "\n",
        "    # Group rare jobs into 'Other'\n",
        "    data.loc[data['job_title'].isin(rare_jobs), 'job_title'] = 'Other'\n",
        "\n",
        "    # Count after grouping\n",
        "    job_counts_after = data['job_title'].value_counts()\n",
        "    print(f\"\\n✓ Total unique job titles after grouping: {len(job_counts_after)}\")\n",
        "    print(f\"✓ Rows labeled as 'Other': {(data['job_title'] == 'Other').sum()}\")\n",
        "else:\n",
        "    print(\"✓ No rare job titles found (all titles appear >= 5 times)\")"
      ]
    },
    {
      "cell_type": "markdown",
      "metadata": {
        "id": "0441nPT3hxdZ"
      },
      "source": [
        "### 5.Data Summary After Cleaning"
      ]
    },
    {
      "cell_type": "code",
      "execution_count": 6,
      "metadata": {
        "colab": {
          "base_uri": "https://localhost:8080/"
        },
        "id": "Rl4rEQfThxdZ",
        "outputId": "229824f0-8661-4bf0-f374-7c81e791953c"
      },
      "outputs": [
        {
          "output_type": "stream",
          "name": "stdout",
          "text": [
            "\n",
            "======================================================================\n",
            "STEP 5: DATA SUMMARY AFTER CLEANING\n",
            "======================================================================\n",
            "\n",
            "Dataset Info:\n",
            "<class 'pandas.core.frame.DataFrame'>\n",
            "RangeIndex: 105434 entries, 0 to 105433\n",
            "Data columns (total 9 columns):\n",
            " #   Column              Non-Null Count   Dtype \n",
            "---  ------              --------------   ----- \n",
            " 0   work_year           105434 non-null  int64 \n",
            " 1   experience_level    105434 non-null  object\n",
            " 2   employment_type     105434 non-null  object\n",
            " 3   job_title           105434 non-null  object\n",
            " 4   salary_in_usd       105434 non-null  int64 \n",
            " 5   employee_residence  105434 non-null  object\n",
            " 6   remote_ratio        105434 non-null  int64 \n",
            " 7   company_location    105434 non-null  object\n",
            " 8   company_size        105434 non-null  object\n",
            "dtypes: int64(3), object(6)\n",
            "memory usage: 7.2+ MB\n",
            "None\n",
            "\n",
            "----------------------------------------------------------------------\n",
            "Statistical Summary:\n",
            "           work_year  salary_in_usd   remote_ratio\n",
            "count  105434.000000  105434.000000  105434.000000\n",
            "mean     2024.188981  158018.514179      21.103249\n",
            "std         0.669665   74401.714026      40.714744\n",
            "min      2020.000000   15000.000000       0.000000\n",
            "25%      2024.000000  106400.000000       0.000000\n",
            "50%      2024.000000  147000.000000       0.000000\n",
            "75%      2025.000000  199000.000000       0.000000\n",
            "max      2025.000000  800000.000000     100.000000\n",
            "\n",
            "----------------------------------------------------------------------\n",
            "Categorical Variable Distributions:\n",
            "\n",
            "1. Experience Level:\n",
            "experience_level\n",
            "SE    61396\n",
            "MI    31802\n",
            "EN     9938\n",
            "EX     2298\n",
            "Name: count, dtype: int64\n",
            "\n",
            "2. Employment Type:\n",
            "employment_type\n",
            "FT    104865\n",
            "PT       285\n",
            "CT       268\n",
            "FL        16\n",
            "Name: count, dtype: int64\n",
            "\n",
            "3. Top 10 Job Titles:\n",
            "job_title\n",
            "Data Scientist               14938\n",
            "Data Engineer                12392\n",
            "Software Engineer            11635\n",
            "Data Analyst                 10024\n",
            "Machine Learning Engineer     7169\n",
            "Engineer                      6862\n",
            "Manager                       4686\n",
            "Analyst                       2882\n",
            "Research Scientist            2833\n",
            "Applied Scientist             1931\n",
            "Name: count, dtype: int64\n",
            "\n",
            "4. Company Size:\n",
            "company_size\n",
            "M    102200\n",
            "L      3021\n",
            "S       213\n",
            "Name: count, dtype: int64\n",
            "\n",
            "5. Top 10 Employee Residence Countries:\n",
            "employee_residence\n",
            "US    94777\n",
            "CA     3986\n",
            "GB     2954\n",
            "AU      373\n",
            "DE      302\n",
            "FR      283\n",
            "NL      281\n",
            "LT      266\n",
            "ES      233\n",
            "AT      221\n",
            "Name: count, dtype: int64\n",
            "\n",
            "6. Top 10 Company Location Countries:\n",
            "company_location\n",
            "US    94834\n",
            "CA     3987\n",
            "GB     2962\n",
            "AU      378\n",
            "DE      311\n",
            "NL      281\n",
            "FR      278\n",
            "LT      266\n",
            "ES      229\n",
            "AT      221\n",
            "Name: count, dtype: int64\n"
          ]
        }
      ],
      "source": [
        "print(\"\\n\" + \"=\"*70)\n",
        "print(\"STEP 5: DATA SUMMARY AFTER CLEANING\")\n",
        "print(\"=\"*70)\n",
        "print(\"\\nDataset Info:\")\n",
        "print(data.info())\n",
        "\n",
        "print(\"\\n\" + \"-\"*70)\n",
        "print(\"Statistical Summary:\")\n",
        "print(data.describe())\n",
        "\n",
        "print(\"\\n\" + \"-\"*70)\n",
        "print(\"Categorical Variable Distributions:\")\n",
        "print(\"\\n1. Experience Level:\")\n",
        "print(data['experience_level'].value_counts())\n",
        "\n",
        "print(\"\\n2. Employment Type:\")\n",
        "print(data['employment_type'].value_counts())\n",
        "\n",
        "print(\"\\n3. Top 10 Job Titles:\")\n",
        "print(data['job_title'].value_counts().head(10))\n",
        "\n",
        "print(\"\\n4. Company Size:\")\n",
        "print(data['company_size'].value_counts())\n",
        "\n",
        "print(\"\\n5. Top 10 Employee Residence Countries:\")\n",
        "print(data['employee_residence'].value_counts().head(10))\n",
        "\n",
        "print(\"\\n6. Top 10 Company Location Countries:\")\n",
        "print(data['company_location'].value_counts().head(10))"
      ]
    },
    {
      "cell_type": "markdown",
      "metadata": {
        "id": "IqdINQPBhxdZ"
      },
      "source": [
        "### 6.Save Cleaned Data"
      ]
    },
    {
      "cell_type": "code",
      "execution_count": 7,
      "metadata": {
        "colab": {
          "base_uri": "https://localhost:8080/"
        },
        "id": "u5mftLoThxda",
        "outputId": "0f94c6d0-aeff-4a2b-c2f5-051c31b2c512"
      },
      "outputs": [
        {
          "output_type": "stream",
          "name": "stdout",
          "text": [
            "\n",
            "======================================================================\n",
            "STEP 6: SAVING CLEANED DATA\n",
            "======================================================================\n",
            "✓ Cleaned data saved to: salaries_cleaned.csv\n",
            "✓ Final dataset shape: 105434 rows, 9 columns\n"
          ]
        }
      ],
      "source": [
        "print(\"\\n\" + \"=\"*70)\n",
        "print(\"STEP 6: SAVING CLEANED DATA\")\n",
        "print(\"=\"*70)\n",
        "output_file = 'salaries_cleaned.csv'\n",
        "data.to_csv(output_file, index=False)\n",
        "print(f\"✓ Cleaned data saved to: {output_file}\")\n",
        "print(f\"✓ Final dataset shape: {data.shape[0]} rows, {data.shape[1]} columns\")"
      ]
    },
    {
      "cell_type": "markdown",
      "metadata": {
        "id": "Yl_L_LLxhxda"
      },
      "source": [
        "### 7.Summary Report"
      ]
    },
    {
      "cell_type": "code",
      "execution_count": 8,
      "metadata": {
        "colab": {
          "base_uri": "https://localhost:8080/"
        },
        "id": "uFqdAUJBpruk",
        "outputId": "8e757d78-dafd-4c3e-e297-ecd321c3fb0e"
      },
      "outputs": [
        {
          "output_type": "stream",
          "name": "stdout",
          "text": [
            "\n",
            "======================================================================\n",
            "DATA CLEANING SUMMARY REPORT\n",
            "======================================================================\n",
            "Step                                     Status    \n",
            "----------------------------------------------------------------------\n",
            "1. Load data                             ✓ Done    \n",
            "2. Drop unnecessary columns              ✓ Done    \n",
            "3. Check missing values                  ✓ Done    \n",
            "4. Group rare job titles                 ✓ Done    \n",
            "5. Data validation                       ✓ Done    \n",
            "6. Save cleaned data                     ✓ Done    \n",
            "======================================================================\n",
            "\n",
            "✓ DATA CLEANING COMPLETE!\n",
            "======================================================================\n",
            "\n",
            "Cleaned dataset ready for modeling:\n",
            "  • File: salaries_cleaned.csv\n",
            "  • Rows: 105,434\n",
            "  • Columns: 9\n",
            "  • Target variable: salary_in_usd\n",
            "  • No missing values\n",
            "  • Rare job titles grouped into 'Other'\n"
          ]
        }
      ],
      "source": [
        "print(\"\\n\" + \"=\"*70)\n",
        "print(\"DATA CLEANING SUMMARY REPORT\")\n",
        "print(\"=\"*70)\n",
        "print(f\"{'Step':<40} {'Status':<10}\")\n",
        "print(\"-\"*70)\n",
        "print(f\"{'1. Load data':<40} {'✓ Done':<10}\")\n",
        "print(f\"{'2. Drop unnecessary columns':<40} {'✓ Done':<10}\")\n",
        "print(f\"{'3. Check missing values':<40} {'✓ Done':<10}\")\n",
        "print(f\"{'4. Group rare job titles':<40} {'✓ Done':<10}\")\n",
        "print(f\"{'5. Data validation':<40} {'✓ Done':<10}\")\n",
        "print(f\"{'6. Save cleaned data':<40} {'✓ Done':<10}\")\n",
        "print(\"=\"*70)\n",
        "print(\"\\n✓ DATA CLEANING COMPLETE!\")\n",
        "print(\"=\"*70)\n",
        "print(f\"\\nCleaned dataset ready for modeling:\")\n",
        "print(f\"  • File: {output_file}\")\n",
        "print(f\"  • Rows: {data.shape[0]:,}\")\n",
        "print(f\"  • Columns: {data.shape[1]}\")\n",
        "print(f\"  • Target variable: salary_in_usd\")\n",
        "print(f\"  • No missing values\")\n",
        "print(f\"  • Rare job titles grouped into 'Other'\")"
      ]
    }
  ],
  "metadata": {
    "colab": {
      "provenance": []
    },
    "kernelspec": {
      "display_name": "Python 3",
      "name": "python3"
    },
    "language_info": {
      "name": "python"
    }
  },
  "nbformat": 4,
  "nbformat_minor": 0
}