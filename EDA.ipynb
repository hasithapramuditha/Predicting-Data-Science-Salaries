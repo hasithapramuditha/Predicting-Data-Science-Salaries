{
 "cells": [
  {
   "cell_type": "code",
   "execution_count": 51,
   "id": "835f5a9f",
   "metadata": {},
   "outputs": [
    {
     "name": "stdout",
     "output_type": "stream",
     "text": [
      "Collecting statsmodels\n",
      "  Using cached statsmodels-0.14.5-cp313-cp313-macosx_11_0_arm64.whl.metadata (9.5 kB)\n",
      "Requirement already satisfied: numpy<3,>=1.22.3 in /Users/user/Desktop/ada/2nd year/2nd semester/Machine learning/Assignment/.venv/lib/python3.13/site-packages (from statsmodels) (2.3.3)\n",
      "Requirement already satisfied: scipy!=1.9.2,>=1.8 in /Users/user/Desktop/ada/2nd year/2nd semester/Machine learning/Assignment/.venv/lib/python3.13/site-packages (from statsmodels) (1.16.2)\n",
      "Requirement already satisfied: pandas!=2.1.0,>=1.4 in /Users/user/Desktop/ada/2nd year/2nd semester/Machine learning/Assignment/.venv/lib/python3.13/site-packages (from statsmodels) (2.3.3)\n",
      "Collecting patsy>=0.5.6 (from statsmodels)\n",
      "  Using cached patsy-1.0.1-py2.py3-none-any.whl.metadata (3.3 kB)\n",
      "Requirement already satisfied: packaging>=21.3 in /Users/user/Desktop/ada/2nd year/2nd semester/Machine learning/Assignment/.venv/lib/python3.13/site-packages (from statsmodels) (25.0)\n",
      "Requirement already satisfied: python-dateutil>=2.8.2 in /Users/user/Desktop/ada/2nd year/2nd semester/Machine learning/Assignment/.venv/lib/python3.13/site-packages (from pandas!=2.1.0,>=1.4->statsmodels) (2.9.0.post0)\n",
      "Requirement already satisfied: pytz>=2020.1 in /Users/user/Desktop/ada/2nd year/2nd semester/Machine learning/Assignment/.venv/lib/python3.13/site-packages (from pandas!=2.1.0,>=1.4->statsmodels) (2025.2)\n",
      "Requirement already satisfied: tzdata>=2022.7 in /Users/user/Desktop/ada/2nd year/2nd semester/Machine learning/Assignment/.venv/lib/python3.13/site-packages (from pandas!=2.1.0,>=1.4->statsmodels) (2025.2)\n",
      "Requirement already satisfied: six>=1.5 in /Users/user/Desktop/ada/2nd year/2nd semester/Machine learning/Assignment/.venv/lib/python3.13/site-packages (from python-dateutil>=2.8.2->pandas!=2.1.0,>=1.4->statsmodels) (1.17.0)\n",
      "Using cached statsmodels-0.14.5-cp313-cp313-macosx_11_0_arm64.whl (9.7 MB)\n",
      "Using cached patsy-1.0.1-py2.py3-none-any.whl (232 kB)\n",
      "Installing collected packages: patsy, statsmodels\n",
      "\u001b[2K   \u001b[90m━━━━━━━━━━━━━━━━━━━━━━━━━━━━━━━━━━━━━━━━\u001b[0m \u001b[32m2/2\u001b[0m [statsmodels]\u001b[0m [statsmodels]\n",
      "\u001b[1A\u001b[2KSuccessfully installed patsy-1.0.1 statsmodels-0.14.5\n"
     ]
    }
   ],
   "source": [
    "!pip install statsmodels"
   ]
  },
  {
   "cell_type": "markdown",
   "id": "4c9dc466",
   "metadata": {},
   "source": [
    "Data Science Job Salaries Dataset contains 11 columns, each are: <br>\n",
    "\n",
    "- work_year: The year the salary was paid. \n",
    "- experience_level: The experience level in the job during the year\n",
    "- employment_type: The type of employment for the role\n",
    "- job_title: The role worked in during the year.\n",
    "- salaryinusd: The salary in USD\n",
    "- employee_residence: Employee's primary country of residence in during the work year as an ISO 3166 country code.\n",
    "- remote_ratio: The overall amount of work done remotely\n",
    "- company_location: The country of the employer's main office or contracting branch\n",
    "- company_size: The median number of people that worked for the company during the year"
   ]
  },
  {
   "cell_type": "markdown",
   "id": "e99e44fb",
   "metadata": {},
   "source": [
    "## Tasks\n",
    "\n",
    "Using the assigned dataset, your group should:\n",
    "- Develop a central prediction problem to investigate.\n",
    "- Formulate clear objectives based on the identified problem.\n",
    "- Clean the data and conduct exploratory data analysis to uncover patterns that help answer your problem.\n",
    "- Build and compare prediction models to achieve your objectives, selecting the most appropriate one.\n",
    "- Interpret your results and present well-supported conclusions."
   ]
  },
  {
   "cell_type": "code",
   "execution_count": 73,
   "id": "7b8b43d6",
   "metadata": {},
   "outputs": [],
   "source": [
    "import pandas as pd\n",
    "import seaborn as sns\n",
    "import matplotlib.pyplot as plt\n",
    "import numpy as np\n",
    "from scipy import stats\n",
    "import statsmodels.api as sm\n",
    "from statsmodels.formula.api import ols\n",
    "from scipy.stats import chi2_contingency\n",
    "\n",
    "sns.set_theme(style=\"whitegrid\") "
   ]
  },
  {
   "cell_type": "markdown",
   "id": "22f4bd4b",
   "metadata": {},
   "source": [
    "## Loading Cleaned Data"
   ]
  },
  {
   "cell_type": "code",
   "execution_count": 3,
   "id": "89788dc1",
   "metadata": {},
   "outputs": [],
   "source": [
    "df = pd.read_csv(\"salaries_cleaned.csv\")"
   ]
  },
  {
   "cell_type": "markdown",
   "id": "1d3943e3",
   "metadata": {},
   "source": [
    "## Recoding"
   ]
  },
  {
   "cell_type": "markdown",
   "id": "3a58f27b",
   "metadata": {},
   "source": [
    "### Experience level\n",
    "\n",
    "<p> Experience level: Ordinal level variable<p>\n",
    "\n",
    "- EN = Entry-level\n",
    "- MI = Mid-level\n",
    "- SE = Senior-level\n",
    "- EX = Expert-level\n",
    "\n",
    "Recorded to \n",
    "\n",
    "- EN = 1\n",
    "- MI = 2\n",
    "- SE = 3\n",
    "- EX = 4"
   ]
  },
  {
   "cell_type": "code",
   "execution_count": 4,
   "id": "006f10c5",
   "metadata": {},
   "outputs": [],
   "source": [
    "df[\"experience_level\"] = df[\"experience_level\"].map({\"EN\":1,\"MI\":2,\"SE\":3,\"EX\":4})"
   ]
  },
  {
   "cell_type": "markdown",
   "id": "a8cff05d",
   "metadata": {},
   "source": [
    "### Company Size\n",
    "\n",
    "<p>Company size: Ordinal variable <p>\n",
    "\n",
    "- m = medium\n",
    "- s = small\n",
    "- l = Large\n",
    "\n",
    "Recoded to\n",
    "\n",
    "- s = 1\n",
    "- m = 2\n",
    "- l = 3"
   ]
  },
  {
   "cell_type": "code",
   "execution_count": 5,
   "id": "949aea69",
   "metadata": {},
   "outputs": [],
   "source": [
    "df[\"company_size\"] = df[\"company_size\"].map({\"S\":1,\"M\":2,\"L\":3})"
   ]
  },
  {
   "cell_type": "markdown",
   "id": "e152a7ea",
   "metadata": {},
   "source": [
    "# Descriptive Statistics"
   ]
  },
  {
   "cell_type": "code",
   "execution_count": 6,
   "id": "9dc92aaf",
   "metadata": {},
   "outputs": [
    {
     "name": "stdout",
     "output_type": "stream",
     "text": [
      "<class 'pandas.core.frame.DataFrame'>\n",
      "RangeIndex: 105434 entries, 0 to 105433\n",
      "Data columns (total 9 columns):\n",
      " #   Column              Non-Null Count   Dtype \n",
      "---  ------              --------------   ----- \n",
      " 0   work_year           105434 non-null  int64 \n",
      " 1   experience_level    105434 non-null  int64 \n",
      " 2   employment_type     105434 non-null  object\n",
      " 3   job_title           105434 non-null  object\n",
      " 4   salary_in_usd       105434 non-null  int64 \n",
      " 5   employee_residence  105434 non-null  object\n",
      " 6   remote_ratio        105434 non-null  int64 \n",
      " 7   company_location    105434 non-null  object\n",
      " 8   company_size        105434 non-null  int64 \n",
      "dtypes: int64(5), object(4)\n",
      "memory usage: 7.2+ MB\n"
     ]
    }
   ],
   "source": [
    "df.info()"
   ]
  },
  {
   "cell_type": "code",
   "execution_count": 7,
   "id": "b056b30f",
   "metadata": {},
   "outputs": [
    {
     "name": "stdout",
     "output_type": "stream",
     "text": [
      "Column is work_year\n",
      "count    105434.000000\n",
      "mean       2024.188981\n",
      "std           0.669665\n",
      "min        2020.000000\n",
      "25%        2024.000000\n",
      "50%        2024.000000\n",
      "75%        2025.000000\n",
      "max        2025.000000\n",
      "Name: work_year, dtype: float64\n",
      "--------------------------------------------- \n",
      "\n",
      "Column is experience_level\n",
      "count    105434.000000\n",
      "mean          2.531650\n",
      "std           0.693621\n",
      "min           1.000000\n",
      "25%           2.000000\n",
      "50%           3.000000\n",
      "75%           3.000000\n",
      "max           4.000000\n",
      "Name: experience_level, dtype: float64\n",
      "--------------------------------------------- \n",
      "\n",
      "Column is employment_type\n",
      "count     105434\n",
      "unique         4\n",
      "top           FT\n",
      "freq      104865\n",
      "Name: employment_type, dtype: object\n",
      "--------------------------------------------- \n",
      "\n",
      "Column is job_title\n",
      "count             105434\n",
      "unique               242\n",
      "top       Data Scientist\n",
      "freq               14938\n",
      "Name: job_title, dtype: object\n",
      "--------------------------------------------- \n",
      "\n",
      "Column is salary_in_usd\n",
      "count    105434.000000\n",
      "mean     158018.514179\n",
      "std       74401.714026\n",
      "min       15000.000000\n",
      "25%      106400.000000\n",
      "50%      147000.000000\n",
      "75%      199000.000000\n",
      "max      800000.000000\n",
      "Name: salary_in_usd, dtype: float64\n",
      "--------------------------------------------- \n",
      "\n",
      "Column is employee_residence\n",
      "count     105434\n",
      "unique        98\n",
      "top           US\n",
      "freq       94777\n",
      "Name: employee_residence, dtype: object\n",
      "--------------------------------------------- \n",
      "\n",
      "Column is remote_ratio\n",
      "count    105434.000000\n",
      "mean         21.103249\n",
      "std          40.714744\n",
      "min           0.000000\n",
      "25%           0.000000\n",
      "50%           0.000000\n",
      "75%           0.000000\n",
      "max         100.000000\n",
      "Name: remote_ratio, dtype: float64\n",
      "--------------------------------------------- \n",
      "\n",
      "Column is company_location\n",
      "count     105434\n",
      "unique        92\n",
      "top           US\n",
      "freq       94834\n",
      "Name: company_location, dtype: object\n",
      "--------------------------------------------- \n",
      "\n",
      "Column is company_size\n",
      "count    105434.000000\n",
      "mean          2.026633\n",
      "std           0.173102\n",
      "min           1.000000\n",
      "25%           2.000000\n",
      "50%           2.000000\n",
      "75%           2.000000\n",
      "max           3.000000\n",
      "Name: company_size, dtype: float64\n",
      "--------------------------------------------- \n",
      "\n"
     ]
    }
   ],
   "source": [
    "for column in df.columns:\n",
    "    print(f\"Column is {column}\")\n",
    "    print(df[column].describe())\n",
    "    print(\"--------------------------------------------- \\n\")"
   ]
  },
  {
   "cell_type": "markdown",
   "id": "72f7a857",
   "metadata": {},
   "source": [
    "### Visualizations"
   ]
  },
  {
   "cell_type": "markdown",
   "id": "3de61416",
   "metadata": {},
   "source": [
    "### Univarite distribution"
   ]
  },
  {
   "cell_type": "code",
   "execution_count": 8,
   "id": "7a85bcb0",
   "metadata": {},
   "outputs": [],
   "source": [
    "def bar_chart(column_name):\n",
    "    plt.subplot(111)\n",
    "    sns.barplot(\n",
    "        x= df[column_name].value_counts().index,\n",
    "        y=df[column_name].value_counts(),\n",
    "        errorbar=None  \n",
    "    )\n",
    "\n",
    "    plt.title(f\"Distribution of {column_name}\")\n",
    "    plt.xlabel(column_name)\n",
    "    plt.ylabel(\"Frequency\")\n",
    "    plt.show()\n",
    "    \n",
    "\n",
    "def pie_chart(column_name):\n",
    "    plt.subplot(111)\n",
    "    \n",
    "    plt.pie(x =df[column_name].value_counts(),\n",
    "            labels = df[column_name].value_counts().index,\n",
    "            autopct='%1.1f%%'\n",
    "            )\n",
    "    #plt.legend()\n",
    "    \n",
    "    plt.title(f\"Distribution of {column_name}\")\n",
    "    plt.show()\n",
    "    "
   ]
  },
  {
   "cell_type": "code",
   "execution_count": 9,
   "id": "708fae70",
   "metadata": {},
   "outputs": [
    {
     "data": {
      "image/png": "[encoded data removed]",
      "text/plain": [
       "<Figure size 640x480 with 1 Axes>"
      ]
     },
     "metadata": {},
     "output_type": "display_data"
    },
    {
     "data": {
      "image/png": "[encoded data removed]",
      "text/plain": [
       "<Figure size 640x480 with 1 Axes>"
      ]
     },
     "metadata": {},
     "output_type": "display_data"
    },
    {
     "data": {
      "image/png": "[encoded data removed]",
      "text/plain": [
       "<Figure size 640x480 with 1 Axes>"
      ]
     },
     "metadata": {},
     "output_type": "display_data"
    },
    {
     "data": {
      "image/png": "[encoded data removed]",
      "text/plain": [
       "<Figure size 640x480 with 1 Axes>"
      ]
     },
     "metadata": {},
     "output_type": "display_data"
    },
    {
     "data": {
      "image/png": "[encoded data removed]",
      "text/plain": [
       "<Figure size 640x480 with 1 Axes>"
      ]
     },
     "metadata": {},
     "output_type": "display_data"
    },
    {
     "data": {
      "image/png": "[encoded data removed]",
      "text/plain": [
       "<Figure size 640x480 with 1 Axes>"
      ]
     },
     "metadata": {},
     "output_type": "display_data"
    },
    {
     "data": {
      "image/png": "[encoded data removed]",
      "text/plain": [
       "<Figure size 640x480 with 1 Axes>"
      ]
     },
     "metadata": {},
     "output_type": "display_data"
    },
    {
     "data": {
      "image/png": "[encoded data removed]",
      "text/plain": [
       "<Figure size 640x480 with 1 Axes>"
      ]
     },
     "metadata": {},
     "output_type": "display_data"
    },
    {
     "data": {
      "image/png": "[encoded data removed]",
      "text/plain": [
       "<Figure size 640x480 with 1 Axes>"
      ]
     },
     "metadata": {},
     "output_type": "display_data"
    }
   ],
   "source": [
    "bar_chart(\"work_year\")\n",
    "\n",
    "bar_chart(\"experience_level\")\n",
    "\n",
    "pie_chart(\"employment_type\")\n",
    "\n",
    "pie_chart(\"job_title\")\n",
    "\n",
    "\n",
    "sns.histplot(data= df,\n",
    "             x=\"salary_in_usd\")\n",
    "plt.xlabel(\"Salary\")\n",
    "plt.ylabel(\"Frequency\")\n",
    "plt.title(\"distribution of salary\")\n",
    "plt.show()\n",
    "\n",
    "pie_chart(\"employee_residence\")\n",
    "\n",
    "pie_chart(\"remote_ratio\")\n",
    "\n",
    "pie_chart(\"company_location\")\n",
    "\n",
    "\n",
    "pie_chart(\"company_size\")\n"
   ]
  },
  {
   "cell_type": "markdown",
   "id": "4b13b985",
   "metadata": {},
   "source": [
    "### Extreme values"
   ]
  },
  {
   "cell_type": "code",
   "execution_count": 61,
   "id": "de266ac6",
   "metadata": {},
   "outputs": [
    {
     "data": {
      "image/png": "[encoded data removed]",
      "text/plain": [
       "<Figure size 640x480 with 1 Axes>"
      ]
     },
     "metadata": {},
     "output_type": "display_data"
    }
   ],
   "source": [
    "sns.boxplot(x=df[\"salary_in_usd\"])\n",
    "plt.title(\"Salary Distribution with Outliers\")\n",
    "plt.show()"
   ]
  },
  {
   "cell_type": "code",
   "execution_count": 64,
   "id": "ea47e7eb",
   "metadata": {},
   "outputs": [
    {
     "data": {
      "application/vnd.microsoft.datawrangler.viewer.v0+json": {
       "columns": [
        {
         "name": "index",
         "rawType": "int64",
         "type": "integer"
        },
        {
         "name": "work_year",
         "rawType": "int64",
         "type": "integer"
        },
        {
         "name": "experience_level",
         "rawType": "int64",
         "type": "integer"
        },
        {
         "name": "employment_type",
         "rawType": "object",
         "type": "string"
        },
        {
         "name": "job_title",
         "rawType": "object",
         "type": "string"
        },
        {
         "name": "salary_in_usd",
         "rawType": "int64",
         "type": "integer"
        },
        {
         "name": "employee_residence",
         "rawType": "object",
         "type": "string"
        },
        {
         "name": "remote_ratio",
         "rawType": "int64",
         "type": "integer"
        },
        {
         "name": "company_location",
         "rawType": "object",
         "type": "string"
        },
        {
         "name": "company_size",
         "rawType": "int64",
         "type": "integer"
        },
        {
         "name": "z_values",
         "rawType": "float64",
         "type": "float"
        }
       ],
       "ref": "0716990e-a600-4cb9-b355-782c83f13f9f",
       "rows": [
        [
         "82",
         "2025",
         "3",
         "FT",
         "Engineer",
         "440000",
         "US",
         "0",
         "US",
         "2",
         "3.789986420476104"
        ],
        [
         "90",
         "2025",
         "3",
         "FT",
         "Research Engineer",
         "440000",
         "US",
         "0",
         "US",
         "2",
         "3.789986420476104"
        ],
        [
         "180",
         "2025",
         "2",
         "FT",
         "Research Scientist",
         "410000",
         "US",
         "0",
         "US",
         "2",
         "3.3867699033227217"
        ],
        [
         "182",
         "2025",
         "2",
         "FT",
         "Research Scientist",
         "389500",
         "US",
         "0",
         "US",
         "2",
         "3.111238616601244"
        ],
        [
         "276",
         "2025",
         "3",
         "FT",
         "Site Reliability Engineer",
         "720000",
         "US",
         "0",
         "US",
         "2",
         "7.553340580574335"
        ],
        [
         "316",
         "2025",
         "3",
         "FT",
         "Machine Learning Engineer",
         "402000",
         "US",
         "0",
         "US",
         "2",
         "3.2792454987484865"
        ],
        [
         "438",
         "2025",
         "2",
         "FT",
         "Manager",
         "500000",
         "US",
         "0",
         "US",
         "2",
         "4.596419454782868"
        ],
        [
         "934",
         "2025",
         "3",
         "FT",
         "Software Engineer",
         "500000",
         "US",
         "0",
         "US",
         "2",
         "4.596419454782868"
        ],
        [
         "956",
         "2025",
         "3",
         "FT",
         "Software Engineer",
         "500000",
         "US",
         "0",
         "US",
         "2",
         "4.596419454782868"
        ],
        [
         "998",
         "2025",
         "2",
         "FT",
         "Engineer",
         "405000",
         "US",
         "0",
         "US",
         "2",
         "3.3195671504638247"
        ],
        [
         "1014",
         "2025",
         "3",
         "FT",
         "AI Architect",
         "400000",
         "US",
         "0",
         "US",
         "2",
         "3.2523643976049277"
        ],
        [
         "1214",
         "2025",
         "2",
         "FT",
         "Engineering Manager",
         "400000",
         "US",
         "100",
         "US",
         "2",
         "3.2523643976049277"
        ],
        [
         "1302",
         "2025",
         "3",
         "FT",
         "Site Reliability Engineer",
         "385000",
         "US",
         "100",
         "US",
         "2",
         "3.050756139028237"
        ],
        [
         "1308",
         "2025",
         "2",
         "FT",
         "Research Engineer",
         "550000",
         "US",
         "0",
         "US",
         "2",
         "5.268446983371837"
        ],
        [
         "1318",
         "2025",
         "2",
         "FT",
         "Research Scientist",
         "530000",
         "US",
         "0",
         "US",
         "2",
         "4.999635971936249"
        ],
        [
         "1504",
         "2025",
         "3",
         "FT",
         "Software Engineer",
         "389500",
         "US",
         "0",
         "US",
         "2",
         "3.111238616601244"
        ],
        [
         "1618",
         "2025",
         "3",
         "FT",
         "Machine Learning Engineer",
         "400000",
         "US",
         "0",
         "US",
         "2",
         "3.2523643976049277"
        ],
        [
         "1632",
         "2025",
         "3",
         "FT",
         "Data Engineer",
         "720000",
         "US",
         "100",
         "US",
         "2",
         "7.553340580574335"
        ],
        [
         "1662",
         "2025",
         "3",
         "FT",
         "Architect",
         "500000",
         "US",
         "0",
         "US",
         "2",
         "4.596419454782868"
        ],
        [
         "1754",
         "2025",
         "3",
         "FT",
         "AI Developer",
         "458000",
         "US",
         "0",
         "US",
         "2",
         "4.031916330768134"
        ],
        [
         "1986",
         "2025",
         "2",
         "FT",
         "Software Engineer",
         "385000",
         "US",
         "0",
         "US",
         "2",
         "3.050756139028237"
        ],
        [
         "1996",
         "2025",
         "3",
         "FT",
         "Technical Writer",
         "500000",
         "US",
         "0",
         "US",
         "2",
         "4.596419454782868"
        ],
        [
         "2023",
         "2025",
         "3",
         "FT",
         "Software Engineer",
         "720000",
         "US",
         "100",
         "US",
         "2",
         "7.553340580574335"
        ],
        [
         "2041",
         "2025",
         "3",
         "FT",
         "Engineering Manager",
         "405000",
         "US",
         "0",
         "US",
         "2",
         "3.3195671504638247"
        ],
        [
         "2053",
         "2025",
         "2",
         "FT",
         "Engineering Manager",
         "405000",
         "US",
         "0",
         "US",
         "2",
         "3.3195671504638247"
        ],
        [
         "2303",
         "2025",
         "2",
         "FT",
         "AI Engineer",
         "440000",
         "US",
         "0",
         "US",
         "2",
         "3.789986420476104"
        ],
        [
         "2417",
         "2025",
         "3",
         "FT",
         "Software Engineer",
         "560000",
         "US",
         "0",
         "US",
         "2",
         "5.402852489089631"
        ],
        [
         "2419",
         "2025",
         "4",
         "FT",
         "Manager",
         "410000",
         "US",
         "0",
         "US",
         "2",
         "3.3867699033227217"
        ],
        [
         "2422",
         "2025",
         "3",
         "FT",
         "Other",
         "400000",
         "US",
         "0",
         "US",
         "2",
         "3.2523643976049277"
        ],
        [
         "2590",
         "2025",
         "3",
         "FT",
         "AI Engineer",
         "458000",
         "US",
         "0",
         "US",
         "2",
         "4.031916330768134"
        ],
        [
         "2686",
         "2025",
         "3",
         "FT",
         "Data Scientist",
         "384000",
         "US",
         "0",
         "US",
         "2",
         "3.0373155884564578"
        ],
        [
         "2822",
         "2025",
         "3",
         "FT",
         "Research Engineer",
         "425000",
         "US",
         "0",
         "US",
         "2",
         "3.588378161899413"
        ],
        [
         "2830",
         "2025",
         "3",
         "FT",
         "AI Researcher",
         "385000",
         "US",
         "0",
         "US",
         "2",
         "3.050756139028237"
        ],
        [
         "2858",
         "2025",
         "3",
         "FT",
         "Machine Learning Engineer",
         "385000",
         "US",
         "0",
         "US",
         "2",
         "3.050756139028237"
        ],
        [
         "2938",
         "2025",
         "3",
         "FT",
         "Software Engineer",
         "405000",
         "US",
         "0",
         "US",
         "2",
         "3.3195671504638247"
        ],
        [
         "2964",
         "2025",
         "2",
         "FT",
         "Software Engineer",
         "385000",
         "US",
         "0",
         "US",
         "2",
         "3.050756139028237"
        ],
        [
         "3124",
         "2025",
         "3",
         "FT",
         "Engineer",
         "485000",
         "US",
         "0",
         "US",
         "2",
         "4.394811196206177"
        ],
        [
         "3126",
         "2025",
         "3",
         "FT",
         "Engineer",
         "485000",
         "US",
         "0",
         "US",
         "2",
         "4.394811196206177"
        ],
        [
         "3232",
         "2025",
         "3",
         "FT",
         "Machine Learning Engineer",
         "414000",
         "US",
         "0",
         "US",
         "2",
         "3.4405321056098392"
        ],
        [
         "3286",
         "2025",
         "4",
         "FT",
         "Quantitative Analyst",
         "500000",
         "US",
         "0",
         "US",
         "2",
         "4.596419454782868"
        ],
        [
         "3534",
         "2025",
         "3",
         "FT",
         "Engineer",
         "413160",
         "US",
         "0",
         "US",
         "2",
         "3.4292420431295447"
        ],
        [
         "3536",
         "2025",
         "3",
         "FT",
         "Systems Engineer",
         "425000",
         "US",
         "0",
         "US",
         "2",
         "3.588378161899413"
        ],
        [
         "3540",
         "2025",
         "3",
         "FT",
         "Research Engineer",
         "690000",
         "US",
         "0",
         "US",
         "2",
         "7.150124063420953"
        ],
        [
         "3562",
         "2025",
         "2",
         "FT",
         "Research Engineer",
         "510000",
         "US",
         "0",
         "US",
         "2",
         "4.730824960500662"
        ],
        [
         "3576",
         "2025",
         "3",
         "FT",
         "Research Engineer",
         "510000",
         "US",
         "0",
         "US",
         "2",
         "4.730824960500662"
        ],
        [
         "3702",
         "2025",
         "2",
         "FT",
         "Software Engineer",
         "465000",
         "US",
         "0",
         "US",
         "2",
         "4.126000184770589"
        ],
        [
         "3964",
         "2025",
         "2",
         "FT",
         "Software Engineer",
         "425000",
         "US",
         "0",
         "US",
         "2",
         "3.588378161899413"
        ],
        [
         "3988",
         "2025",
         "3",
         "FT",
         "Research Engineer",
         "632911",
         "GB",
         "0",
         "GB",
         "2",
         "6.382816471828639"
        ],
        [
         "3992",
         "2025",
         "2",
         "FT",
         "Software Engineer",
         "405000",
         "US",
         "0",
         "US",
         "2",
         "3.3195671504638247"
        ],
        [
         "3994",
         "2025",
         "2",
         "FT",
         "Software Engineer",
         "405000",
         "US",
         "0",
         "US",
         "2",
         "3.3195671504638247"
        ]
       ],
       "shape": {
        "columns": 10,
        "rows": 1103
       }
      },
      "text/html": [
       "<div>\n",
       "<style scoped>\n",
       "    .dataframe tbody tr th:only-of-type {\n",
       "        vertical-align: middle;\n",
       "    }\n",
       "\n",
       "    .dataframe tbody tr th {\n",
       "        vertical-align: top;\n",
       "    }\n",
       "\n",
       "    .dataframe thead th {\n",
       "        text-align: right;\n",
       "    }\n",
       "</style>\n",
       "<table border=\"1\" class=\"dataframe\">\n",
       "  <thead>\n",
       "    <tr style=\"text-align: right;\">\n",
       "      <th></th>\n",
       "      <th>work_year</th>\n",
       "      <th>experience_level</th>\n",
       "      <th>employment_type</th>\n",
       "      <th>job_title</th>\n",
       "      <th>salary_in_usd</th>\n",
       "      <th>employee_residence</th>\n",
       "      <th>remote_ratio</th>\n",
       "      <th>company_location</th>\n",
       "      <th>company_size</th>\n",
       "      <th>z_values</th>\n",
       "    </tr>\n",
       "  </thead>\n",
       "  <tbody>\n",
       "    <tr>\n",
       "      <th>82</th>\n",
       "      <td>2025</td>\n",
       "      <td>3</td>\n",
       "      <td>FT</td>\n",
       "      <td>Engineer</td>\n",
       "      <td>440000</td>\n",
       "      <td>US</td>\n",
       "      <td>0</td>\n",
       "      <td>US</td>\n",
       "      <td>2</td>\n",
       "      <td>3.789986</td>\n",
       "    </tr>\n",
       "    <tr>\n",
       "      <th>90</th>\n",
       "      <td>2025</td>\n",
       "      <td>3</td>\n",
       "      <td>FT</td>\n",
       "      <td>Research Engineer</td>\n",
       "      <td>440000</td>\n",
       "      <td>US</td>\n",
       "      <td>0</td>\n",
       "      <td>US</td>\n",
       "      <td>2</td>\n",
       "      <td>3.789986</td>\n",
       "    </tr>\n",
       "    <tr>\n",
       "      <th>180</th>\n",
       "      <td>2025</td>\n",
       "      <td>2</td>\n",
       "      <td>FT</td>\n",
       "      <td>Research Scientist</td>\n",
       "      <td>410000</td>\n",
       "      <td>US</td>\n",
       "      <td>0</td>\n",
       "      <td>US</td>\n",
       "      <td>2</td>\n",
       "      <td>3.386770</td>\n",
       "    </tr>\n",
       "    <tr>\n",
       "      <th>182</th>\n",
       "      <td>2025</td>\n",
       "      <td>2</td>\n",
       "      <td>FT</td>\n",
       "      <td>Research Scientist</td>\n",
       "      <td>389500</td>\n",
       "      <td>US</td>\n",
       "      <td>0</td>\n",
       "      <td>US</td>\n",
       "      <td>2</td>\n",
       "      <td>3.111239</td>\n",
       "    </tr>\n",
       "    <tr>\n",
       "      <th>276</th>\n",
       "      <td>2025</td>\n",
       "      <td>3</td>\n",
       "      <td>FT</td>\n",
       "      <td>Site Reliability Engineer</td>\n",
       "      <td>720000</td>\n",
       "      <td>US</td>\n",
       "      <td>0</td>\n",
       "      <td>US</td>\n",
       "      <td>2</td>\n",
       "      <td>7.553341</td>\n",
       "    </tr>\n",
       "    <tr>\n",
       "      <th>...</th>\n",
       "      <td>...</td>\n",
       "      <td>...</td>\n",
       "      <td>...</td>\n",
       "      <td>...</td>\n",
       "      <td>...</td>\n",
       "      <td>...</td>\n",
       "      <td>...</td>\n",
       "      <td>...</td>\n",
       "      <td>...</td>\n",
       "      <td>...</td>\n",
       "    </tr>\n",
       "    <tr>\n",
       "      <th>105159</th>\n",
       "      <td>2022</td>\n",
       "      <td>3</td>\n",
       "      <td>FT</td>\n",
       "      <td>Data Analytics Lead</td>\n",
       "      <td>405000</td>\n",
       "      <td>US</td>\n",
       "      <td>100</td>\n",
       "      <td>US</td>\n",
       "      <td>3</td>\n",
       "      <td>3.319567</td>\n",
       "    </tr>\n",
       "    <tr>\n",
       "      <th>105216</th>\n",
       "      <td>2020</td>\n",
       "      <td>2</td>\n",
       "      <td>FT</td>\n",
       "      <td>Research Scientist</td>\n",
       "      <td>450000</td>\n",
       "      <td>US</td>\n",
       "      <td>0</td>\n",
       "      <td>US</td>\n",
       "      <td>2</td>\n",
       "      <td>3.924392</td>\n",
       "    </tr>\n",
       "    <tr>\n",
       "      <th>105361</th>\n",
       "      <td>2021</td>\n",
       "      <td>4</td>\n",
       "      <td>CT</td>\n",
       "      <td>Principal Data Scientist</td>\n",
       "      <td>416000</td>\n",
       "      <td>US</td>\n",
       "      <td>100</td>\n",
       "      <td>US</td>\n",
       "      <td>1</td>\n",
       "      <td>3.467413</td>\n",
       "    </tr>\n",
       "    <tr>\n",
       "      <th>105426</th>\n",
       "      <td>2021</td>\n",
       "      <td>2</td>\n",
       "      <td>FT</td>\n",
       "      <td>Applied Machine Learning Scientist</td>\n",
       "      <td>423000</td>\n",
       "      <td>US</td>\n",
       "      <td>50</td>\n",
       "      <td>US</td>\n",
       "      <td>3</td>\n",
       "      <td>3.561497</td>\n",
       "    </tr>\n",
       "    <tr>\n",
       "      <th>105429</th>\n",
       "      <td>2020</td>\n",
       "      <td>3</td>\n",
       "      <td>FT</td>\n",
       "      <td>Data Scientist</td>\n",
       "      <td>412000</td>\n",
       "      <td>US</td>\n",
       "      <td>100</td>\n",
       "      <td>US</td>\n",
       "      <td>3</td>\n",
       "      <td>3.413651</td>\n",
       "    </tr>\n",
       "  </tbody>\n",
       "</table>\n",
       "<p>1103 rows × 10 columns</p>\n",
       "</div>"
      ],
      "text/plain": [
       "        work_year  experience_level employment_type  \\\n",
       "82           2025                 3              FT   \n",
       "90           2025                 3              FT   \n",
       "180          2025                 2              FT   \n",
       "182          2025                 2              FT   \n",
       "276          2025                 3              FT   \n",
       "...           ...               ...             ...   \n",
       "105159       2022                 3              FT   \n",
       "105216       2020                 2              FT   \n",
       "105361       2021                 4              CT   \n",
       "105426       2021                 2              FT   \n",
       "105429       2020                 3              FT   \n",
       "\n",
       "                                 job_title  salary_in_usd employee_residence  \\\n",
       "82                                Engineer         440000                 US   \n",
       "90                       Research Engineer         440000                 US   \n",
       "180                     Research Scientist         410000                 US   \n",
       "182                     Research Scientist         389500                 US   \n",
       "276              Site Reliability Engineer         720000                 US   \n",
       "...                                    ...            ...                ...   \n",
       "105159                 Data Analytics Lead         405000                 US   \n",
       "105216                  Research Scientist         450000                 US   \n",
       "105361            Principal Data Scientist         416000                 US   \n",
       "105426  Applied Machine Learning Scientist         423000                 US   \n",
       "105429                      Data Scientist         412000                 US   \n",
       "\n",
       "        remote_ratio company_location  company_size  z_values  \n",
       "82                 0               US             2  3.789986  \n",
       "90                 0               US             2  3.789986  \n",
       "180                0               US             2  3.386770  \n",
       "182                0               US             2  3.111239  \n",
       "276                0               US             2  7.553341  \n",
       "...              ...              ...           ...       ...  \n",
       "105159           100               US             3  3.319567  \n",
       "105216             0               US             2  3.924392  \n",
       "105361           100               US             1  3.467413  \n",
       "105426            50               US             3  3.561497  \n",
       "105429           100               US             3  3.413651  \n",
       "\n",
       "[1103 rows x 10 columns]"
      ]
     },
     "execution_count": 64,
     "metadata": {},
     "output_type": "execute_result"
    }
   ],
   "source": [
    "df_copy = df.copy()\n",
    "\n",
    "df_copy[\"z_values\"] = (df[\"salary_in_usd\"] - df[\"salary_in_usd\"].mean())/ df[\"salary_in_usd\"].std()\n",
    "\n",
    "extreme = df_copy[(df_copy[\"z_values\"] > 3) | (df_copy[\"z_values\"] < -3)]\n",
    "extreme"
   ]
  },
  {
   "cell_type": "code",
   "execution_count": 66,
   "id": "411735b1",
   "metadata": {},
   "outputs": [
    {
     "name": "stdout",
     "output_type": "stream",
     "text": [
      "proportion of extreme values 1.0461520951495722\n"
     ]
    }
   ],
   "source": [
    "print(f\"proportion of extreme values {(len(extreme)/len(df))*100}\")"
   ]
  },
  {
   "cell_type": "code",
   "execution_count": 68,
   "id": "b3f153c6",
   "metadata": {},
   "outputs": [
    {
     "name": "stdout",
     "output_type": "stream",
     "text": [
      "Correlation with outliers: 0.348\n",
      "Correlation without outliers: 0.353\n"
     ]
    }
   ],
   "source": [
    "outliers = df_copy[df_copy[\"z_values\"] > 3]\n",
    "non_outliers = df_copy[df_copy[\"z_values\"] <= 3]\n",
    "\n",
    "r_full = df[\"salary_in_usd\"].corr(df[\"experience_level\"], method=\"spearman\")\n",
    "r_no_outliers = non_outliers[\"salary_in_usd\"].corr(non_outliers[\"experience_level\"], method=\"spearman\")\n",
    "\n",
    "print(f\"Correlation with outliers: {r_full:.3f}\")\n",
    "print(f\"Correlation without outliers: {r_no_outliers:.3f}\")"
   ]
  },
  {
   "cell_type": "markdown",
   "id": "b8e0a78f",
   "metadata": {},
   "source": [
    "### Exploratary"
   ]
  },
  {
   "cell_type": "markdown",
   "id": "952b3ef3",
   "metadata": {},
   "source": [
    "### job title"
   ]
  },
  {
   "cell_type": "code",
   "execution_count": 10,
   "id": "b4833257",
   "metadata": {},
   "outputs": [
    {
     "data": {
      "application/vnd.microsoft.datawrangler.viewer.v0+json": {
       "columns": [
        {
         "name": "index",
         "rawType": "int64",
         "type": "integer"
        },
        {
         "name": "job_title",
         "rawType": "object",
         "type": "string"
        },
        {
         "name": "count",
         "rawType": "int64",
         "type": "integer"
        },
        {
         "name": "pct",
         "rawType": "float64",
         "type": "float"
        }
       ],
       "ref": "3254ad1e-65e4-4191-918e-a99f5fa605aa",
       "rows": [
        [
         "0",
         "Data Scientist",
         "14938",
         "14.17"
        ],
        [
         "1",
         "Data Engineer",
         "12392",
         "11.75"
        ],
        [
         "2",
         "Software Engineer",
         "11635",
         "11.04"
        ],
        [
         "3",
         "Data Analyst",
         "10024",
         "9.51"
        ],
        [
         "4",
         "Machine Learning Engineer",
         "7169",
         "6.8"
        ],
        [
         "5",
         "Engineer",
         "6862",
         "6.51"
        ],
        [
         "6",
         "Manager",
         "4686",
         "4.44"
        ],
        [
         "7",
         "Analyst",
         "2882",
         "2.73"
        ],
        [
         "8",
         "Research Scientist",
         "2833",
         "2.69"
        ],
        [
         "9",
         "Applied Scientist",
         "1931",
         "1.83"
        ],
        [
         "10",
         "Data Architect",
         "1715",
         "1.63"
        ],
        [
         "11",
         "Product Manager",
         "1686",
         "1.6"
        ],
        [
         "12",
         "Analytics Engineer",
         "1566",
         "1.49"
        ],
        [
         "13",
         "Associate",
         "1533",
         "1.45"
        ],
        [
         "14",
         "Research Engineer",
         "1362",
         "1.29"
        ],
        [
         "15",
         "AI Engineer",
         "1128",
         "1.07"
        ],
        [
         "16",
         "Data Manager",
         "825",
         "0.78"
        ],
        [
         "17",
         "Consultant",
         "777",
         "0.74"
        ],
        [
         "18",
         "Business Intelligence Engineer",
         "756",
         "0.72"
        ],
        [
         "19",
         "Machine Learning Researcher",
         "677",
         "0.64"
        ],
        [
         "20",
         "Data Specialist",
         "634",
         "0.6"
        ],
        [
         "21",
         "Engineering Manager",
         "616",
         "0.58"
        ],
        [
         "22",
         "Solutions Architect",
         "614",
         "0.58"
        ],
        [
         "23",
         "Software Developer",
         "554",
         "0.53"
        ],
        [
         "24",
         "Systems Engineer",
         "544",
         "0.52"
        ],
        [
         "25",
         "Software Development Engineer",
         "543",
         "0.52"
        ],
        [
         "26",
         "Business Intelligence Analyst",
         "538",
         "0.51"
        ],
        [
         "27",
         "Developer",
         "504",
         "0.48"
        ],
        [
         "28",
         "Research Analyst",
         "414",
         "0.39"
        ],
        [
         "29",
         "Machine Learning Scientist",
         "389",
         "0.37"
        ],
        [
         "30",
         "Platform Engineer",
         "354",
         "0.34"
        ],
        [
         "31",
         "Architect",
         "348",
         "0.33"
        ],
        [
         "32",
         "Site Reliability Engineer",
         "346",
         "0.33"
        ],
        [
         "33",
         "Business Intelligence Developer",
         "341",
         "0.32"
        ],
        [
         "34",
         "DevOps Engineer",
         "340",
         "0.32"
        ],
        [
         "35",
         "Business Intelligence",
         "312",
         "0.3"
        ],
        [
         "36",
         "Business Analyst",
         "307",
         "0.29"
        ],
        [
         "37",
         "Solutions Engineer",
         "265",
         "0.25"
        ],
        [
         "38",
         "BI Developer",
         "258",
         "0.24"
        ],
        [
         "39",
         "Head of Data",
         "238",
         "0.23"
        ],
        [
         "40",
         "Data Product Manager",
         "224",
         "0.21"
        ],
        [
         "41",
         "Backend Engineer",
         "221",
         "0.21"
        ],
        [
         "42",
         "Data Lead",
         "218",
         "0.21"
        ],
        [
         "43",
         "Other",
         "216",
         "0.2"
        ],
        [
         "44",
         "AI Architect",
         "207",
         "0.2"
        ],
        [
         "45",
         "Data Analytics Manager",
         "194",
         "0.18"
        ],
        [
         "46",
         "Data Management Analyst",
         "192",
         "0.18"
        ],
        [
         "47",
         "Decision Scientist",
         "190",
         "0.18"
        ],
        [
         "48",
         "Data Governance",
         "184",
         "0.17"
        ],
        [
         "49",
         "Solution Architect",
         "182",
         "0.17"
        ]
       ],
       "shape": {
        "columns": 3,
        "rows": 242
       }
      },
      "text/html": [
       "<div>\n",
       "<style scoped>\n",
       "    .dataframe tbody tr th:only-of-type {\n",
       "        vertical-align: middle;\n",
       "    }\n",
       "\n",
       "    .dataframe tbody tr th {\n",
       "        vertical-align: top;\n",
       "    }\n",
       "\n",
       "    .dataframe thead th {\n",
       "        text-align: right;\n",
       "    }\n",
       "</style>\n",
       "<table border=\"1\" class=\"dataframe\">\n",
       "  <thead>\n",
       "    <tr style=\"text-align: right;\">\n",
       "      <th></th>\n",
       "      <th>job_title</th>\n",
       "      <th>count</th>\n",
       "      <th>pct</th>\n",
       "    </tr>\n",
       "  </thead>\n",
       "  <tbody>\n",
       "    <tr>\n",
       "      <th>0</th>\n",
       "      <td>Data Scientist</td>\n",
       "      <td>14938</td>\n",
       "      <td>14.17</td>\n",
       "    </tr>\n",
       "    <tr>\n",
       "      <th>1</th>\n",
       "      <td>Data Engineer</td>\n",
       "      <td>12392</td>\n",
       "      <td>11.75</td>\n",
       "    </tr>\n",
       "    <tr>\n",
       "      <th>2</th>\n",
       "      <td>Software Engineer</td>\n",
       "      <td>11635</td>\n",
       "      <td>11.04</td>\n",
       "    </tr>\n",
       "    <tr>\n",
       "      <th>3</th>\n",
       "      <td>Data Analyst</td>\n",
       "      <td>10024</td>\n",
       "      <td>9.51</td>\n",
       "    </tr>\n",
       "    <tr>\n",
       "      <th>4</th>\n",
       "      <td>Machine Learning Engineer</td>\n",
       "      <td>7169</td>\n",
       "      <td>6.80</td>\n",
       "    </tr>\n",
       "    <tr>\n",
       "      <th>...</th>\n",
       "      <td>...</td>\n",
       "      <td>...</td>\n",
       "      <td>...</td>\n",
       "    </tr>\n",
       "    <tr>\n",
       "      <th>237</th>\n",
       "      <td>Admin &amp; Data Analyst</td>\n",
       "      <td>5</td>\n",
       "      <td>0.00</td>\n",
       "    </tr>\n",
       "    <tr>\n",
       "      <th>238</th>\n",
       "      <td>Lead Machine Learning Engineer</td>\n",
       "      <td>5</td>\n",
       "      <td>0.00</td>\n",
       "    </tr>\n",
       "    <tr>\n",
       "      <th>239</th>\n",
       "      <td>Machine Learning Research Engineer</td>\n",
       "      <td>5</td>\n",
       "      <td>0.00</td>\n",
       "    </tr>\n",
       "    <tr>\n",
       "      <th>240</th>\n",
       "      <td>Computer Vision Software Engineer</td>\n",
       "      <td>5</td>\n",
       "      <td>0.00</td>\n",
       "    </tr>\n",
       "    <tr>\n",
       "      <th>241</th>\n",
       "      <td>Data Analytics Engineer</td>\n",
       "      <td>5</td>\n",
       "      <td>0.00</td>\n",
       "    </tr>\n",
       "  </tbody>\n",
       "</table>\n",
       "<p>242 rows × 3 columns</p>\n",
       "</div>"
      ],
      "text/plain": [
       "                              job_title  count    pct\n",
       "0                        Data Scientist  14938  14.17\n",
       "1                         Data Engineer  12392  11.75\n",
       "2                     Software Engineer  11635  11.04\n",
       "3                          Data Analyst  10024   9.51\n",
       "4             Machine Learning Engineer   7169   6.80\n",
       "..                                  ...    ...    ...\n",
       "237                Admin & Data Analyst      5   0.00\n",
       "238      Lead Machine Learning Engineer      5   0.00\n",
       "239  Machine Learning Research Engineer      5   0.00\n",
       "240   Computer Vision Software Engineer      5   0.00\n",
       "241             Data Analytics Engineer      5   0.00\n",
       "\n",
       "[242 rows x 3 columns]"
      ]
     },
     "execution_count": 10,
     "metadata": {},
     "output_type": "execute_result"
    }
   ],
   "source": [
    "#No of people with job title\n",
    "occupation  = df[\"job_title\"].value_counts().reset_index().sort_values(\"count\",ascending=False)\n",
    "occupation[\"pct\"] = ((occupation[\"count\"]/occupation[\"count\"].sum())*100).round(2)\n",
    "\n",
    "occupation"
   ]
  },
  {
   "cell_type": "code",
   "execution_count": 11,
   "id": "8307c43d",
   "metadata": {},
   "outputs": [
    {
     "name": "stderr",
     "output_type": "stream",
     "text": [
      "/var/folders/c8/r0g7l7m1039ghplj6z5yp5v40000gn/T/ipykernel_85911/3177131433.py:8: UserWarning: No artists with labels found to put in legend.  Note that artists whose label start with an underscore are ignored when legend() is called with no argument.\n",
      "  plt.legend(title=\"Job Title\")\n"
     ]
    },
    {
     "data": {
      "image/png": "[encoded data removed]",
      "text/plain": [
       "<Figure size 1000x600 with 1 Axes>"
      ]
     },
     "metadata": {},
     "output_type": "display_data"
    }
   ],
   "source": [
    "\n",
    "plt.figure(figsize=(10,6))\n",
    "sns.histplot(data=df, x=\"salary_in_usd\", hue=\"job_title\", kde=True, element=\"step\", bins=30)\n",
    "#hue=\"job_title\": separate distributions by job title (different colors)\n",
    "\n",
    "plt.title(\"Salary Distribution Across Job Titles\")\n",
    "plt.xlabel(\"Salary (USD)\")\n",
    "plt.ylabel(\"Frequency\")\n",
    "plt.legend(title=\"Job Title\")\n",
    "plt.show()"
   ]
  },
  {
   "cell_type": "code",
   "execution_count": 81,
   "id": "58c0f9cd",
   "metadata": {},
   "outputs": [
    {
     "data": {
      "application/vnd.microsoft.datawrangler.viewer.v0+json": {
       "columns": [
        {
         "name": "index",
         "rawType": "int64",
         "type": "integer"
        },
        {
         "name": "job_title",
         "rawType": "object",
         "type": "string"
        },
        {
         "name": "salary_in_usd",
         "rawType": "float64",
         "type": "float"
        }
       ],
       "ref": "6a9d6a6b-4bf6-48b3-9201-e341c3a016a6",
       "rows": [
        [
         "147",
         "Head of Machine Learning",
         "283573.55"
        ],
        [
         "132",
         "Director of Product Management",
         "270407.14"
        ],
        [
         "137",
         "Engineering Manager",
         "258278.71"
        ],
        [
         "138",
         "Enterprise Account Executive",
         "256074.48"
        ],
        [
         "131",
         "Director of Machine Learning",
         "254689.58"
        ],
        [
         "166",
         "Machine Learning Model Engineer",
         "245625.0"
        ],
        [
         "145",
         "Head of AI",
         "245622.26"
        ],
        [
         "157",
         "ML Infrastructure Engineer",
         "229300.0"
        ],
        [
         "146",
         "Head of Data",
         "224298.96"
        ],
        [
         "193",
         "Principal Software Architect",
         "219850.0"
        ],
        [
         "160",
         "Machine Learning Architect",
         "219241.82"
        ],
        [
         "236",
         "Technical Architect",
         "216383.33"
        ],
        [
         "0",
         "AI Architect",
         "213354.58"
        ],
        [
         "139",
         "Executive",
         "212598.42"
        ],
        [
         "211",
         "Research Engineer",
         "210993.49"
        ],
        [
         "165",
         "Machine Learning Manager",
         "210466.14"
        ],
        [
         "168",
         "Machine Learning Platform Engineer",
         "208120.0"
        ],
        [
         "222",
         "Software Architect",
         "207445.27"
        ],
        [
         "144",
         "GenAI Architect",
         "203958.33"
        ],
        [
         "204",
         "Quant Options Trader",
         "200000.0"
        ],
        [
         "206",
         "Quantitative Developer",
         "199000.0"
        ],
        [
         "215",
         "Robotics Software Engineer",
         "198750.0"
        ],
        [
         "197",
         "Product Designer",
         "198473.0"
        ],
        [
         "162",
         "Machine Learning Engineer",
         "198322.88"
        ],
        [
         "212",
         "Research Scientist",
         "197914.59"
        ],
        [
         "178",
         "Member of Technical Staff",
         "196058.33"
        ],
        [
         "5",
         "AI Product Manager",
         "195172.22"
        ],
        [
         "15",
         "Account Executive",
         "194208.9"
        ],
        [
         "191",
         "Principal Data Scientist",
         "194089.6"
        ],
        [
         "148",
         "Infrastructure Engineer",
         "193675.0"
        ],
        [
         "192",
         "Principal Researcher",
         "193440.0"
        ],
        [
         "228",
         "Solutions Architect",
         "193080.07"
        ],
        [
         "79",
         "Data Infrastructure Engineer",
         "192502.74"
        ],
        [
         "237",
         "Technical Lead",
         "191929.88"
        ],
        [
         "27",
         "Architect",
         "191343.3"
        ],
        [
         "127",
         "Deep Learning Engineer",
         "190807.5"
        ],
        [
         "198",
         "Product Manager",
         "190407.81"
        ],
        [
         "225",
         "Software Engineer",
         "190397.17"
        ],
        [
         "140",
         "Frontend Engineer",
         "190062.5"
        ],
        [
         "235",
         "Tech Lead",
         "189908.33"
        ],
        [
         "13",
         "AI Solution Architect",
         "189079.8"
        ],
        [
         "173",
         "Machine Learning Software Engineer",
         "188440.27"
        ],
        [
         "34",
         "Backend Engineer",
         "187976.58"
        ],
        [
         "155",
         "Lead Engineer",
         "186311.25"
        ],
        [
         "221",
         "Site Reliability Engineer",
         "185560.95"
        ],
        [
         "167",
         "Machine Learning Modeler",
         "184130.0"
        ],
        [
         "219",
         "Security Engineer",
         "183669.38"
        ],
        [
         "220",
         "Security Researcher",
         "182850.0"
        ],
        [
         "190",
         "Principal Application Delivery Consultant",
         "182500.0"
        ],
        [
         "26",
         "Applied Scientist",
         "181727.38"
        ]
       ],
       "shape": {
        "columns": 2,
        "rows": 242
       }
      },
      "text/html": [
       "<div>\n",
       "<style scoped>\n",
       "    .dataframe tbody tr th:only-of-type {\n",
       "        vertical-align: middle;\n",
       "    }\n",
       "\n",
       "    .dataframe tbody tr th {\n",
       "        vertical-align: top;\n",
       "    }\n",
       "\n",
       "    .dataframe thead th {\n",
       "        text-align: right;\n",
       "    }\n",
       "</style>\n",
       "<table border=\"1\" class=\"dataframe\">\n",
       "  <thead>\n",
       "    <tr style=\"text-align: right;\">\n",
       "      <th></th>\n",
       "      <th>job_title</th>\n",
       "      <th>salary_in_usd</th>\n",
       "    </tr>\n",
       "  </thead>\n",
       "  <tbody>\n",
       "    <tr>\n",
       "      <th>147</th>\n",
       "      <td>Head of Machine Learning</td>\n",
       "      <td>283573.55</td>\n",
       "    </tr>\n",
       "    <tr>\n",
       "      <th>132</th>\n",
       "      <td>Director of Product Management</td>\n",
       "      <td>270407.14</td>\n",
       "    </tr>\n",
       "    <tr>\n",
       "      <th>137</th>\n",
       "      <td>Engineering Manager</td>\n",
       "      <td>258278.71</td>\n",
       "    </tr>\n",
       "    <tr>\n",
       "      <th>138</th>\n",
       "      <td>Enterprise Account Executive</td>\n",
       "      <td>256074.48</td>\n",
       "    </tr>\n",
       "    <tr>\n",
       "      <th>131</th>\n",
       "      <td>Director of Machine Learning</td>\n",
       "      <td>254689.58</td>\n",
       "    </tr>\n",
       "    <tr>\n",
       "      <th>...</th>\n",
       "      <td>...</td>\n",
       "      <td>...</td>\n",
       "    </tr>\n",
       "    <tr>\n",
       "      <th>37</th>\n",
       "      <td>Big Data Engineer</td>\n",
       "      <td>65065.79</td>\n",
       "    </tr>\n",
       "    <tr>\n",
       "      <th>218</th>\n",
       "      <td>Scala Spark Developer</td>\n",
       "      <td>57531.67</td>\n",
       "    </tr>\n",
       "    <tr>\n",
       "      <th>209</th>\n",
       "      <td>Research Assistant</td>\n",
       "      <td>53826.80</td>\n",
       "    </tr>\n",
       "    <tr>\n",
       "      <th>49</th>\n",
       "      <td>Clinical Data Operator</td>\n",
       "      <td>37200.00</td>\n",
       "    </tr>\n",
       "    <tr>\n",
       "      <th>230</th>\n",
       "      <td>Stage</td>\n",
       "      <td>36289.04</td>\n",
       "    </tr>\n",
       "  </tbody>\n",
       "</table>\n",
       "<p>242 rows × 2 columns</p>\n",
       "</div>"
      ],
      "text/plain": [
       "                          job_title  salary_in_usd\n",
       "147        Head of Machine Learning      283573.55\n",
       "132  Director of Product Management      270407.14\n",
       "137             Engineering Manager      258278.71\n",
       "138    Enterprise Account Executive      256074.48\n",
       "131    Director of Machine Learning      254689.58\n",
       "..                              ...            ...\n",
       "37                Big Data Engineer       65065.79\n",
       "218           Scala Spark Developer       57531.67\n",
       "209              Research Assistant       53826.80\n",
       "49           Clinical Data Operator       37200.00\n",
       "230                           Stage       36289.04\n",
       "\n",
       "[242 rows x 2 columns]"
      ]
     },
     "execution_count": 81,
     "metadata": {},
     "output_type": "execute_result"
    }
   ],
   "source": [
    "\n",
    "#mean salaries\n",
    "\n",
    "df.groupby([\"job_title\"])[\"salary_in_usd\"].mean().round(2).reset_index().sort_values(\"salary_in_usd\",ascending=False)\n"
   ]
  },
  {
   "cell_type": "code",
   "execution_count": 82,
   "id": "97f4b669",
   "metadata": {},
   "outputs": [
    {
     "data": {
      "application/vnd.microsoft.datawrangler.viewer.v0+json": {
       "columns": [
        {
         "name": "index",
         "rawType": "int64",
         "type": "integer"
        },
        {
         "name": "job_title",
         "rawType": "object",
         "type": "string"
        },
        {
         "name": "salary_in_usd",
         "rawType": "float64",
         "type": "float"
        }
       ],
       "ref": "d491cab2-bb50-44d8-9252-e52cd28dfe94",
       "rows": [
        [
         "147",
         "Head of Machine Learning",
         "299000.0"
        ],
        [
         "132",
         "Director of Product Management",
         "265650.0"
        ],
        [
         "137",
         "Engineering Manager",
         "240000.0"
        ],
        [
         "166",
         "Machine Learning Model Engineer",
         "230000.0"
        ],
        [
         "145",
         "Head of AI",
         "228500.0"
        ],
        [
         "146",
         "Head of Data",
         "220000.0"
        ],
        [
         "144",
         "GenAI Architect",
         "219100.0"
        ],
        [
         "157",
         "ML Infrastructure Engineer",
         "216800.0"
        ],
        [
         "193",
         "Principal Software Architect",
         "215000.0"
        ],
        [
         "131",
         "Director of Machine Learning",
         "207900.0"
        ],
        [
         "168",
         "Machine Learning Platform Engineer",
         "207250.0"
        ],
        [
         "165",
         "Machine Learning Manager",
         "206940.0"
        ],
        [
         "139",
         "Executive",
         "202200.0"
        ],
        [
         "204",
         "Quant Options Trader",
         "200000.0"
        ],
        [
         "236",
         "Technical Architect",
         "199900.0"
        ],
        [
         "5",
         "AI Product Manager",
         "197000.0"
        ],
        [
         "0",
         "AI Architect",
         "196500.0"
        ],
        [
         "13",
         "AI Solution Architect",
         "195523.0"
        ],
        [
         "197",
         "Product Designer",
         "195000.0"
        ],
        [
         "215",
         "Robotics Software Engineer",
         "193000.0"
        ],
        [
         "222",
         "Software Architect",
         "192051.5"
        ],
        [
         "140",
         "Frontend Engineer",
         "190000.0"
        ],
        [
         "162",
         "Machine Learning Engineer",
         "188000.0"
        ],
        [
         "235",
         "Tech Lead",
         "186000.0"
        ],
        [
         "158",
         "ML Scientist",
         "185550.0"
        ],
        [
         "238",
         "Technical Specialist",
         "185499.0"
        ],
        [
         "211",
         "Research Engineer",
         "185000.0"
        ],
        [
         "79",
         "Data Infrastructure Engineer",
         "184500.0"
        ],
        [
         "173",
         "Machine Learning Software Engineer",
         "183600.0"
        ],
        [
         "212",
         "Research Scientist",
         "182857.0"
        ],
        [
         "237",
         "Technical Lead",
         "182650.0"
        ],
        [
         "190",
         "Principal Application Delivery Consultant",
         "182500.0"
        ],
        [
         "138",
         "Enterprise Account Executive",
         "181772.0"
        ],
        [
         "148",
         "Infrastructure Engineer",
         "180400.0"
        ],
        [
         "15",
         "Account Executive",
         "180000.0"
        ],
        [
         "34",
         "Backend Engineer",
         "180000.0"
        ],
        [
         "225",
         "Software Engineer",
         "180000.0"
        ],
        [
         "27",
         "Architect",
         "180000.0"
        ],
        [
         "155",
         "Lead Engineer",
         "180000.0"
        ],
        [
         "228",
         "Solutions Architect",
         "180000.0"
        ],
        [
         "206",
         "Quantitative Developer",
         "177000.0"
        ],
        [
         "178",
         "Member of Technical Staff",
         "176550.0"
        ],
        [
         "221",
         "Site Reliability Engineer",
         "175000.0"
        ],
        [
         "18",
         "Algorithm Developer",
         "175000.0"
        ],
        [
         "198",
         "Product Manager",
         "175000.0"
        ],
        [
         "160",
         "Machine Learning Architect",
         "174985.0"
        ],
        [
         "56",
         "Computer Vision Engineer",
         "174000.0"
        ],
        [
         "167",
         "Machine Learning Modeler",
         "173350.0"
        ],
        [
         "130",
         "Developer Advocate",
         "172500.0"
        ],
        [
         "163",
         "Machine Learning Infrastructure Engineer",
         "171600.0"
        ]
       ],
       "shape": {
        "columns": 2,
        "rows": 242
       }
      },
      "text/html": [
       "<div>\n",
       "<style scoped>\n",
       "    .dataframe tbody tr th:only-of-type {\n",
       "        vertical-align: middle;\n",
       "    }\n",
       "\n",
       "    .dataframe tbody tr th {\n",
       "        vertical-align: top;\n",
       "    }\n",
       "\n",
       "    .dataframe thead th {\n",
       "        text-align: right;\n",
       "    }\n",
       "</style>\n",
       "<table border=\"1\" class=\"dataframe\">\n",
       "  <thead>\n",
       "    <tr style=\"text-align: right;\">\n",
       "      <th></th>\n",
       "      <th>job_title</th>\n",
       "      <th>salary_in_usd</th>\n",
       "    </tr>\n",
       "  </thead>\n",
       "  <tbody>\n",
       "    <tr>\n",
       "      <th>147</th>\n",
       "      <td>Head of Machine Learning</td>\n",
       "      <td>299000.0</td>\n",
       "    </tr>\n",
       "    <tr>\n",
       "      <th>132</th>\n",
       "      <td>Director of Product Management</td>\n",
       "      <td>265650.0</td>\n",
       "    </tr>\n",
       "    <tr>\n",
       "      <th>137</th>\n",
       "      <td>Engineering Manager</td>\n",
       "      <td>240000.0</td>\n",
       "    </tr>\n",
       "    <tr>\n",
       "      <th>166</th>\n",
       "      <td>Machine Learning Model Engineer</td>\n",
       "      <td>230000.0</td>\n",
       "    </tr>\n",
       "    <tr>\n",
       "      <th>145</th>\n",
       "      <td>Head of AI</td>\n",
       "      <td>228500.0</td>\n",
       "    </tr>\n",
       "    <tr>\n",
       "      <th>...</th>\n",
       "      <td>...</td>\n",
       "      <td>...</td>\n",
       "    </tr>\n",
       "    <tr>\n",
       "      <th>152</th>\n",
       "      <td>Lead Data Analyst</td>\n",
       "      <td>53807.5</td>\n",
       "    </tr>\n",
       "    <tr>\n",
       "      <th>8</th>\n",
       "      <td>AI Research Engineer</td>\n",
       "      <td>50136.5</td>\n",
       "    </tr>\n",
       "    <tr>\n",
       "      <th>209</th>\n",
       "      <td>Research Assistant</td>\n",
       "      <td>49500.0</td>\n",
       "    </tr>\n",
       "    <tr>\n",
       "      <th>49</th>\n",
       "      <td>Clinical Data Operator</td>\n",
       "      <td>36000.0</td>\n",
       "    </tr>\n",
       "    <tr>\n",
       "      <th>230</th>\n",
       "      <td>Stage</td>\n",
       "      <td>25473.0</td>\n",
       "    </tr>\n",
       "  </tbody>\n",
       "</table>\n",
       "<p>242 rows × 2 columns</p>\n",
       "</div>"
      ],
      "text/plain": [
       "                           job_title  salary_in_usd\n",
       "147         Head of Machine Learning       299000.0\n",
       "132   Director of Product Management       265650.0\n",
       "137              Engineering Manager       240000.0\n",
       "166  Machine Learning Model Engineer       230000.0\n",
       "145                       Head of AI       228500.0\n",
       "..                               ...            ...\n",
       "152                Lead Data Analyst        53807.5\n",
       "8               AI Research Engineer        50136.5\n",
       "209               Research Assistant        49500.0\n",
       "49            Clinical Data Operator        36000.0\n",
       "230                            Stage        25473.0\n",
       "\n",
       "[242 rows x 2 columns]"
      ]
     },
     "execution_count": 82,
     "metadata": {},
     "output_type": "execute_result"
    }
   ],
   "source": [
    "#considering the median given the skewness of the distribution\n",
    "\n",
    "median_salaries = df.groupby([\"job_title\"])[\"salary_in_usd\"].median().reset_index().sort_values(\"salary_in_usd\",ascending=False)\n",
    "median_salaries"
   ]
  },
  {
   "cell_type": "code",
   "execution_count": 83,
   "id": "351a4522",
   "metadata": {},
   "outputs": [
    {
     "data": {
      "application/vnd.microsoft.datawrangler.viewer.v0+json": {
       "columns": [
        {
         "name": "index",
         "rawType": "int64",
         "type": "integer"
        },
        {
         "name": "job_title",
         "rawType": "object",
         "type": "string"
        },
        {
         "name": "salary_in_usd",
         "rawType": "float64",
         "type": "float"
        },
        {
         "name": "count",
         "rawType": "int64",
         "type": "integer"
        },
        {
         "name": "pct",
         "rawType": "float64",
         "type": "float"
        }
       ],
       "ref": "e91d71ef-10ae-44da-be78-7ae91dadc247",
       "rows": [
        [
         "81",
         "Data Scientist",
         "150000.0",
         "14938",
         "14.17"
        ],
        [
         "105",
         "Data Engineer",
         "140000.0",
         "12392",
         "11.75"
        ],
        [
         "36",
         "Software Engineer",
         "180000.0",
         "11635",
         "11.04"
        ],
        [
         "183",
         "Data Analyst",
         "99000.0",
         "10024",
         "9.51"
        ],
        [
         "22",
         "Machine Learning Engineer",
         "188000.0",
         "7169",
         "6.8"
        ],
        [
         "67",
         "Engineer",
         "160000.0",
         "6862",
         "6.51"
        ],
        [
         "73",
         "Manager",
         "156160.0",
         "4686",
         "4.44"
        ],
        [
         "168",
         "Analyst",
         "105000.0",
         "2882",
         "2.73"
        ],
        [
         "29",
         "Research Scientist",
         "182857.0",
         "2833",
         "2.69"
        ],
        [
         "68",
         "Applied Scientist",
         "160000.0",
         "1931",
         "1.83"
        ],
        [
         "79",
         "Data Architect",
         "151898.0",
         "1715",
         "1.63"
        ],
        [
         "44",
         "Product Manager",
         "175000.0",
         "1686",
         "1.6"
        ],
        [
         "89",
         "Analytics Engineer",
         "145000.0",
         "1566",
         "1.49"
        ],
        [
         "130",
         "Associate",
         "123696.0",
         "1533",
         "1.45"
        ],
        [
         "26",
         "Research Engineer",
         "185000.0",
         "1362",
         "1.29"
        ],
        [
         "53",
         "AI Engineer",
         "165800.0",
         "1128",
         "1.07"
        ],
        [
         "186",
         "Data Manager",
         "97693.0",
         "825",
         "0.78"
        ],
        [
         "145",
         "Consultant",
         "118000.0",
         "777",
         "0.74"
        ],
        [
         "146",
         "Business Intelligence Engineer",
         "117850.0",
         "756",
         "0.72"
        ],
        [
         "66",
         "Machine Learning Researcher",
         "160000.0",
         "677",
         "0.64"
        ],
        [
         "224",
         "Data Specialist",
         "70000.0",
         "634",
         "0.6"
        ],
        [
         "2",
         "Engineering Manager",
         "240000.0",
         "616",
         "0.58"
        ],
        [
         "39",
         "Solutions Architect",
         "180000.0",
         "614",
         "0.58"
        ],
        [
         "139",
         "Software Developer",
         "119980.0",
         "554",
         "0.53"
        ],
        [
         "60",
         "Software Development Engineer",
         "162240.0",
         "543",
         "0.52"
        ],
        [
         "54",
         "Systems Engineer",
         "165460.0",
         "544",
         "0.52"
        ],
        [
         "161",
         "Business Intelligence Analyst",
         "108191.0",
         "538",
         "0.51"
        ],
        [
         "152",
         "Developer",
         "115000.0",
         "504",
         "0.48"
        ],
        [
         "180",
         "Research Analyst",
         "100000.0",
         "414",
         "0.39"
        ],
        [
         "55",
         "Machine Learning Scientist",
         "165384.0",
         "389",
         "0.37"
        ],
        [
         "71",
         "Platform Engineer",
         "159050.0",
         "354",
         "0.34"
        ],
        [
         "37",
         "Architect",
         "180000.0",
         "348",
         "0.33"
        ],
        [
         "42",
         "Site Reliability Engineer",
         "175000.0",
         "346",
         "0.33"
        ],
        [
         "111",
         "DevOps Engineer",
         "137510.0",
         "340",
         "0.32"
        ],
        [
         "167",
         "Business Intelligence Developer",
         "105295.0",
         "341",
         "0.32"
        ],
        [
         "104",
         "Business Intelligence",
         "140000.0",
         "312",
         "0.3"
        ],
        [
         "159",
         "Business Analyst",
         "110000.0",
         "307",
         "0.29"
        ],
        [
         "74",
         "Solutions Engineer",
         "156000.0",
         "265",
         "0.25"
        ],
        [
         "173",
         "BI Developer",
         "103500.0",
         "258",
         "0.24"
        ],
        [
         "5",
         "Head of Data",
         "220000.0",
         "238",
         "0.23"
        ],
        [
         "85",
         "Data Product Manager",
         "149280.0",
         "224",
         "0.21"
        ],
        [
         "116",
         "Data Lead",
         "135000.0",
         "218",
         "0.21"
        ],
        [
         "35",
         "Backend Engineer",
         "180000.0",
         "221",
         "0.21"
        ],
        [
         "181",
         "Other",
         "100000.0",
         "216",
         "0.2"
        ],
        [
         "16",
         "AI Architect",
         "196500.0",
         "207",
         "0.2"
        ],
        [
         "117",
         "Data Analytics Manager",
         "133550.0",
         "194",
         "0.18"
        ],
        [
         "192",
         "Data Management Analyst",
         "91062.0",
         "192",
         "0.18"
        ],
        [
         "90",
         "Decision Scientist",
         "145000.0",
         "190",
         "0.18"
        ],
        [
         "86",
         "Data Governance",
         "149220.0",
         "184",
         "0.17"
        ],
        [
         "50",
         "Solution Architect",
         "168525.0",
         "182",
         "0.17"
        ]
       ],
       "shape": {
        "columns": 4,
        "rows": 242
       }
      },
      "text/html": [
       "<div>\n",
       "<style scoped>\n",
       "    .dataframe tbody tr th:only-of-type {\n",
       "        vertical-align: middle;\n",
       "    }\n",
       "\n",
       "    .dataframe tbody tr th {\n",
       "        vertical-align: top;\n",
       "    }\n",
       "\n",
       "    .dataframe thead th {\n",
       "        text-align: right;\n",
       "    }\n",
       "</style>\n",
       "<table border=\"1\" class=\"dataframe\">\n",
       "  <thead>\n",
       "    <tr style=\"text-align: right;\">\n",
       "      <th></th>\n",
       "      <th>job_title</th>\n",
       "      <th>salary_in_usd</th>\n",
       "      <th>count</th>\n",
       "      <th>pct</th>\n",
       "    </tr>\n",
       "  </thead>\n",
       "  <tbody>\n",
       "    <tr>\n",
       "      <th>81</th>\n",
       "      <td>Data Scientist</td>\n",
       "      <td>150000.0</td>\n",
       "      <td>14938</td>\n",
       "      <td>14.17</td>\n",
       "    </tr>\n",
       "    <tr>\n",
       "      <th>105</th>\n",
       "      <td>Data Engineer</td>\n",
       "      <td>140000.0</td>\n",
       "      <td>12392</td>\n",
       "      <td>11.75</td>\n",
       "    </tr>\n",
       "    <tr>\n",
       "      <th>36</th>\n",
       "      <td>Software Engineer</td>\n",
       "      <td>180000.0</td>\n",
       "      <td>11635</td>\n",
       "      <td>11.04</td>\n",
       "    </tr>\n",
       "    <tr>\n",
       "      <th>183</th>\n",
       "      <td>Data Analyst</td>\n",
       "      <td>99000.0</td>\n",
       "      <td>10024</td>\n",
       "      <td>9.51</td>\n",
       "    </tr>\n",
       "    <tr>\n",
       "      <th>22</th>\n",
       "      <td>Machine Learning Engineer</td>\n",
       "      <td>188000.0</td>\n",
       "      <td>7169</td>\n",
       "      <td>6.80</td>\n",
       "    </tr>\n",
       "    <tr>\n",
       "      <th>...</th>\n",
       "      <td>...</td>\n",
       "      <td>...</td>\n",
       "      <td>...</td>\n",
       "      <td>...</td>\n",
       "    </tr>\n",
       "    <tr>\n",
       "      <th>208</th>\n",
       "      <td>Data Analytics Engineer</td>\n",
       "      <td>79197.0</td>\n",
       "      <td>5</td>\n",
       "      <td>0.00</td>\n",
       "    </tr>\n",
       "    <tr>\n",
       "      <th>216</th>\n",
       "      <td>Machine Learning Research Engineer</td>\n",
       "      <td>73824.0</td>\n",
       "      <td>5</td>\n",
       "      <td>0.00</td>\n",
       "    </tr>\n",
       "    <tr>\n",
       "      <th>233</th>\n",
       "      <td>Admin &amp; Data Analyst</td>\n",
       "      <td>60000.0</td>\n",
       "      <td>5</td>\n",
       "      <td>0.00</td>\n",
       "    </tr>\n",
       "    <tr>\n",
       "      <th>203</th>\n",
       "      <td>Lead Machine Learning Engineer</td>\n",
       "      <td>84053.0</td>\n",
       "      <td>5</td>\n",
       "      <td>0.00</td>\n",
       "    </tr>\n",
       "    <tr>\n",
       "      <th>222</th>\n",
       "      <td>Computer Vision Software Engineer</td>\n",
       "      <td>70000.0</td>\n",
       "      <td>5</td>\n",
       "      <td>0.00</td>\n",
       "    </tr>\n",
       "  </tbody>\n",
       "</table>\n",
       "<p>242 rows × 4 columns</p>\n",
       "</div>"
      ],
      "text/plain": [
       "                              job_title  salary_in_usd  count    pct\n",
       "81                       Data Scientist       150000.0  14938  14.17\n",
       "105                       Data Engineer       140000.0  12392  11.75\n",
       "36                    Software Engineer       180000.0  11635  11.04\n",
       "183                        Data Analyst        99000.0  10024   9.51\n",
       "22            Machine Learning Engineer       188000.0   7169   6.80\n",
       "..                                  ...            ...    ...    ...\n",
       "208             Data Analytics Engineer        79197.0      5   0.00\n",
       "216  Machine Learning Research Engineer        73824.0      5   0.00\n",
       "233                Admin & Data Analyst        60000.0      5   0.00\n",
       "203      Lead Machine Learning Engineer        84053.0      5   0.00\n",
       "222   Computer Vision Software Engineer        70000.0      5   0.00\n",
       "\n",
       "[242 rows x 4 columns]"
      ]
     },
     "execution_count": 83,
     "metadata": {},
     "output_type": "execute_result"
    }
   ],
   "source": [
    "#salaries based on the highest occuring job titles\n",
    "salaries = median_salaries.merge(occupation,on=\"job_title\")\n",
    "salaries.sort_values(\"pct\",ascending=False)"
   ]
  },
  {
   "cell_type": "code",
   "execution_count": null,
   "id": "2d599b8b",
   "metadata": {},
   "outputs": [
    {
     "name": "stdout",
     "output_type": "stream",
     "text": [
      "F-statistic: 104.561\n",
      "P-value: 0.000\n"
     ]
    }
   ],
   "source": [
    "#ANOVA testing\n",
    "\n",
    "#salary_in_usd continous/numerical\n",
    "#job_title nominal/catogorical\n",
    "\n",
    "#h0 no significant difference between means between job titles\n",
    "#h1 at least one group mean differs significantly.\n",
    "\n",
    "groups = [group[\"salary_in_usd\"].values for name, group in df.groupby(\"job_title\")]\n",
    "\n",
    "f_stat, p_value = stats.f_oneway(*groups)\n",
    "\n",
    "print(f\"F-statistic: {f_stat:.3f}\")\n",
    "print(f\"P-value: {p_value:.3f}\")\n",
    "\n",
    "#p < 0.05 → at least one group mean differs significantly.\n",
    "#p ≥ 0.05 → no significant difference between means.\n"
   ]
  },
  {
   "cell_type": "markdown",
   "id": "a55a940a",
   "metadata": {},
   "source": [
    "### does salary change with the ammount of experience"
   ]
  },
  {
   "cell_type": "code",
   "execution_count": 84,
   "id": "f4750a42",
   "metadata": {},
   "outputs": [
    {
     "data": {
      "text/plain": [
       "np.float64(0.34831589289420817)"
      ]
     },
     "execution_count": 84,
     "metadata": {},
     "output_type": "execute_result"
    }
   ],
   "source": [
    "df[\"experience_level\"].corr(df[\"salary_in_usd\"], method=\"spearman\")"
   ]
  },
  {
   "cell_type": "code",
   "execution_count": 85,
   "id": "573ae1b3",
   "metadata": {},
   "outputs": [
    {
     "data": {
      "application/vnd.microsoft.datawrangler.viewer.v0+json": {
       "columns": [
        {
         "name": "experience_level",
         "rawType": "int64",
         "type": "integer"
        },
        {
         "name": "salary_in_usd",
         "rawType": "float64",
         "type": "float"
        }
       ],
       "ref": "75748a14-eb7d-4e92-98ce-abe1fc967163",
       "rows": [
        [
         "1",
         "87270.5"
        ],
        [
         "2",
         "130800.0"
        ],
        [
         "3",
         "161200.0"
        ],
        [
         "4",
         "192300.0"
        ]
       ],
       "shape": {
        "columns": 1,
        "rows": 4
       }
      },
      "text/plain": [
       "experience_level\n",
       "1     87270.5\n",
       "2    130800.0\n",
       "3    161200.0\n",
       "4    192300.0\n",
       "Name: salary_in_usd, dtype: float64"
      ]
     },
     "execution_count": 85,
     "metadata": {},
     "output_type": "execute_result"
    }
   ],
   "source": [
    "df.groupby([\"experience_level\"])[\"salary_in_usd\"].median()"
   ]
  },
  {
   "cell_type": "code",
   "execution_count": null,
   "id": "5076caf3",
   "metadata": {},
   "outputs": [
    {
     "data": {
      "application/vnd.microsoft.datawrangler.viewer.v0+json": {
       "columns": [
        {
         "name": "experience_level",
         "rawType": "int64",
         "type": "integer"
        },
        {
         "name": "salary_in_usd",
         "rawType": "float64",
         "type": "float"
        }
       ],
       "ref": "2ea9a285-5c92-4344-8ed9-d62bc41ffdc4",
       "rows": [
        [
         "1",
         "94150.0"
        ],
        [
         "2",
         "129800.0"
        ],
        [
         "3",
         "160000.0"
        ],
        [
         "4",
         "190000.0"
        ]
       ],
       "shape": {
        "columns": 1,
        "rows": 4
       }
      },
      "text/plain": [
       "experience_level\n",
       "1     94150.0\n",
       "2    129800.0\n",
       "3    160000.0\n",
       "4    190000.0\n",
       "Name: salary_in_usd, dtype: float64"
      ]
     },
     "execution_count": 86,
     "metadata": {},
     "output_type": "execute_result"
    }
   ],
   "source": [
    "#how the spread of salary for the highest frequency job title data scientist\n",
    "\n",
    "data_scientist = df[df[\"job_title\"]==\"Data Scientist\"]\n",
    "\n",
    "data_scientist.groupby([\"experience_level\"])[\"salary_in_usd\"].median()"
   ]
  },
  {
   "cell_type": "code",
   "execution_count": null,
   "id": "d366f97e",
   "metadata": {},
   "outputs": [
    {
     "data": {
      "text/plain": [
       "np.float64(0.31026494133253124)"
      ]
     },
     "execution_count": 87,
     "metadata": {},
     "output_type": "execute_result"
    }
   ],
   "source": [
    "#correlation between experience level and salary for data scientists\n",
    "data_scientist[\"experience_level\"].corr(data_scientist[\"salary_in_usd\"], method=\"spearman\")"
   ]
  },
  {
   "cell_type": "code",
   "execution_count": 88,
   "id": "8dcd34f8",
   "metadata": {},
   "outputs": [
    {
     "data": {
      "image/png": "[encoded data removed]",
      "text/plain": [
       "<Figure size 1000x600 with 1 Axes>"
      ]
     },
     "metadata": {},
     "output_type": "display_data"
    }
   ],
   "source": [
    "\n",
    "plt.figure(figsize=(10,6))\n",
    "sns.histplot(data=df, x=\"salary_in_usd\", hue=\"experience_level\", kde=True, element=\"step\", bins=30)\n",
    "#hue=\"job_title\": separate distributions by job title (different colors)\n",
    "\n",
    "plt.title(\"Salary Distribution Across experience_level\")\n",
    "plt.xlabel(\"Salary (USD)\")\n",
    "plt.ylabel(\"Frequency\")\n",
    "plt.show()"
   ]
  },
  {
   "cell_type": "code",
   "execution_count": null,
   "id": "92af9c81",
   "metadata": {},
   "outputs": [
    {
     "name": "stdout",
     "output_type": "stream",
     "text": [
      "F-statistic: 3947.783\n",
      "P-value: 0.000\n"
     ]
    }
   ],
   "source": [
    "#ANOVA testing\n",
    "\n",
    "#salary_in_usd continous/numerical\n",
    "#experience level nominal/catogorical\n",
    "\n",
    "#h0 no significant difference between means between job titles\n",
    "#h1 at least one group mean differs significantly.\n",
    "\n",
    "groups = [group[\"salary_in_usd\"].values for name, group in df.groupby(\"experience_level\")]\n",
    "\n",
    "f_stat, p_value = stats.f_oneway(*groups)\n",
    "\n",
    "print(f\"F-statistic: {f_stat:.3f}\")\n",
    "print(f\"P-value: {p_value:.3f}\")\n",
    "\n",
    "#p < 0.05 → at least one group mean differs significantly.\n",
    "#p ≥ 0.05 → no significant difference between means."
   ]
  },
  {
   "cell_type": "markdown",
   "id": "50d7ca68",
   "metadata": {},
   "source": [
    "### does salary change depending on the mode of work(fully remote, half remote and full physical)"
   ]
  },
  {
   "cell_type": "code",
   "execution_count": 31,
   "id": "1ade81c6",
   "metadata": {},
   "outputs": [
    {
     "data": {
      "application/vnd.microsoft.datawrangler.viewer.v0+json": {
       "columns": [
        {
         "name": "remote_ratio",
         "rawType": "int64",
         "type": "integer"
        },
        {
         "name": "salary_in_usd",
         "rawType": "float64",
         "type": "float"
        }
       ],
       "ref": "3e4c8d7a-ef64-4cae-809d-00178ec1ae8c",
       "rows": [
        [
         "0",
         "148007.0"
        ],
        [
         "50",
         "68276.0"
        ],
        [
         "100",
         "144600.0"
        ]
       ],
       "shape": {
        "columns": 1,
        "rows": 3
       }
      },
      "text/plain": [
       "remote_ratio\n",
       "0      148007.0\n",
       "50      68276.0\n",
       "100    144600.0\n",
       "Name: salary_in_usd, dtype: float64"
      ]
     },
     "execution_count": 31,
     "metadata": {},
     "output_type": "execute_result"
    }
   ],
   "source": [
    "df.groupby([\"remote_ratio\"])[\"salary_in_usd\"].median()"
   ]
  },
  {
   "cell_type": "code",
   "execution_count": 32,
   "id": "d3f8ccf2",
   "metadata": {},
   "outputs": [
    {
     "data": {
      "image/png": "[encoded data removed]",
      "text/plain": [
       "<Figure size 1000x600 with 1 Axes>"
      ]
     },
     "metadata": {},
     "output_type": "display_data"
    }
   ],
   "source": [
    "\n",
    "plt.figure(figsize=(10,6))\n",
    "sns.histplot(data=df, x=\"salary_in_usd\", hue=\"remote_ratio\", kde=True, element=\"step\", bins=30)\n",
    "#hue=\"job_title\": separate distributions by job title (different colors)\n",
    "\n",
    "plt.title(\"Salary Distribution Across Job Titles\")\n",
    "plt.xlabel(\"Salary (USD)\")\n",
    "plt.ylabel(\"Frequency\")\n",
    "plt.show()"
   ]
  },
  {
   "cell_type": "code",
   "execution_count": 54,
   "id": "eb141f7d",
   "metadata": {},
   "outputs": [
    {
     "data": {
      "text/plain": [
       "np.float64(-0.05040235180875516)"
      ]
     },
     "execution_count": 54,
     "metadata": {},
     "output_type": "execute_result"
    }
   ],
   "source": [
    "df[\"remote_ratio\"].corr(df[\"salary_in_usd\"], method=\"spearman\")"
   ]
  },
  {
   "cell_type": "code",
   "execution_count": 55,
   "id": "ec8800d8",
   "metadata": {},
   "outputs": [
    {
     "name": "stdout",
     "output_type": "stream",
     "text": [
      "F-statistic: 334.089\n",
      "P-value: 0.000\n"
     ]
    }
   ],
   "source": [
    "#ANOVA testing\n",
    "\n",
    "#salary_in_usd continous/numerical\n",
    "#remote_ratio nominal/catogorical\n",
    "\n",
    "#h0 no significant difference between means between job titles\n",
    "#h1 at least one group mean differs significantly.\n",
    "\n",
    "groups = [group[\"salary_in_usd\"].values for name, group in df.groupby(\"remote_ratio\")]\n",
    "\n",
    "f_stat, p_value = stats.f_oneway(*groups)\n",
    "\n",
    "print(f\"F-statistic: {f_stat:.3f}\")\n",
    "print(f\"P-value: {p_value:.3f}\")\n",
    "\n",
    "#p < 0.05 → at least one group mean differs significantly.\n",
    "#p ≥ 0.05 → no significant difference between means."
   ]
  },
  {
   "cell_type": "markdown",
   "id": "39b91083",
   "metadata": {},
   "source": [
    "### does company size affet the salary"
   ]
  },
  {
   "cell_type": "code",
   "execution_count": 37,
   "id": "9b311c89",
   "metadata": {},
   "outputs": [
    {
     "data": {
      "application/vnd.microsoft.datawrangler.viewer.v0+json": {
       "columns": [
        {
         "name": "company_size",
         "rawType": "int64",
         "type": "integer"
        },
        {
         "name": "salary_in_usd",
         "rawType": "float64",
         "type": "float"
        }
       ],
       "ref": "443ccf05-bce1-4e24-b973-c47e8a8e92b2",
       "rows": [
        [
         "1",
         "75648.0"
        ],
        [
         "2",
         "147000.0"
        ],
        [
         "3",
         "143100.0"
        ]
       ],
       "shape": {
        "columns": 1,
        "rows": 3
       }
      },
      "text/plain": [
       "company_size\n",
       "1     75648.0\n",
       "2    147000.0\n",
       "3    143100.0\n",
       "Name: salary_in_usd, dtype: float64"
      ]
     },
     "execution_count": 37,
     "metadata": {},
     "output_type": "execute_result"
    }
   ],
   "source": [
    "df.groupby([\"company_size\"])[\"salary_in_usd\"].median()"
   ]
  },
  {
   "cell_type": "code",
   "execution_count": 36,
   "id": "e336a6f8",
   "metadata": {},
   "outputs": [
    {
     "data": {
      "image/png": "[encoded data removed]",
      "text/plain": [
       "<Figure size 1000x600 with 1 Axes>"
      ]
     },
     "metadata": {},
     "output_type": "display_data"
    }
   ],
   "source": [
    "plt.figure(figsize=(10,6))\n",
    "sns.histplot(data=df, x=\"salary_in_usd\", hue=\"company_size\", kde=True, element=\"step\", bins=30)\n",
    "#hue=\"job_title\": separate distributions by job title (different colors)\n",
    "\n",
    "plt.title(\"Salary Distribution Across Job Titles\")\n",
    "plt.xlabel(\"Salary (USD)\")\n",
    "plt.ylabel(\"Frequency\")\n",
    "plt.show()"
   ]
  },
  {
   "cell_type": "code",
   "execution_count": 38,
   "id": "56950f2d",
   "metadata": {},
   "outputs": [
    {
     "data": {
      "text/plain": [
       "np.float64(0.01737184231069221)"
      ]
     },
     "execution_count": 38,
     "metadata": {},
     "output_type": "execute_result"
    }
   ],
   "source": [
    "df[\"company_size\"].corr(df[\"salary_in_usd\"],method=\"spearman\")"
   ]
  },
  {
   "cell_type": "code",
   "execution_count": 56,
   "id": "0fba1f60",
   "metadata": {},
   "outputs": [
    {
     "name": "stdout",
     "output_type": "stream",
     "text": [
      "F-statistic: 95.120\n",
      "P-value: 0.000\n"
     ]
    }
   ],
   "source": [
    "#ANOVA testing\n",
    "\n",
    "#salary_in_usd continous/numerical\n",
    "#company_size nominal/catogorical\n",
    "\n",
    "#h0 no significant difference between means between job titles\n",
    "#h1 at least one group mean differs significantly.\n",
    "\n",
    "groups = [group[\"salary_in_usd\"].values for name, group in df.groupby(\"company_size\")]\n",
    "\n",
    "f_stat, p_value = stats.f_oneway(*groups)\n",
    "\n",
    "print(f\"F-statistic: {f_stat:.3f}\")\n",
    "print(f\"P-value: {p_value:.3f}\")\n",
    "\n",
    "#p < 0.05 → at least one group mean differs significantly.\n",
    "#p ≥ 0.05 → no significant difference between means."
   ]
  },
  {
   "cell_type": "markdown",
   "id": "f5d1d078",
   "metadata": {},
   "source": [
    "### Count based on location of company\n"
   ]
  },
  {
   "cell_type": "code",
   "execution_count": 69,
   "id": "b4995fc1",
   "metadata": {},
   "outputs": [
    {
     "data": {
      "application/vnd.microsoft.datawrangler.viewer.v0+json": {
       "columns": [
        {
         "name": "index",
         "rawType": "int64",
         "type": "integer"
        },
        {
         "name": "company_location",
         "rawType": "object",
         "type": "string"
        },
        {
         "name": "salary_in_usd",
         "rawType": "int64",
         "type": "integer"
        }
       ],
       "ref": "436a9085-7b7c-4097-a67e-7fb746952b23",
       "rows": [
        [
         "86",
         "US",
         "94834"
        ],
        [
         "12",
         "CA",
         "3987"
        ],
        [
         "32",
         "GB",
         "2962"
        ],
        [
         "6",
         "AU",
         "378"
        ],
        [
         "22",
         "DE",
         "311"
        ],
        [
         "62",
         "NL",
         "281"
        ],
        [
         "31",
         "FR",
         "278"
        ],
        [
         "53",
         "LT",
         "266"
        ],
        [
         "29",
         "ES",
         "229"
        ],
        [
         "5",
         "AT",
         "221"
        ],
        [
         "43",
         "IN",
         "153"
        ],
        [
         "80",
         "SK",
         "140"
        ],
        [
         "41",
         "IE",
         "104"
        ],
        [
         "69",
         "PL",
         "99"
        ],
        [
         "55",
         "LV",
         "87"
        ],
        [
         "10",
         "BR",
         "77"
        ],
        [
         "59",
         "MX",
         "74"
        ],
        [
         "90",
         "ZA",
         "65"
        ],
        [
         "3",
         "AR",
         "64"
        ],
        [
         "67",
         "PH",
         "53"
        ],
        [
         "30",
         "FI",
         "52"
        ],
        [
         "71",
         "PT",
         "50"
        ],
        [
         "15",
         "CH",
         "47"
        ],
        [
         "64",
         "NZ",
         "46"
        ],
        [
         "28",
         "EG",
         "41"
        ],
        [
         "46",
         "IT",
         "39"
        ],
        [
         "18",
         "CO",
         "39"
        ],
        [
         "78",
         "SG",
         "27"
        ],
        [
         "8",
         "BE",
         "25"
        ],
        [
         "49",
         "JP",
         "22"
        ],
        [
         "35",
         "GR",
         "22"
        ],
        [
         "83",
         "TR",
         "21"
        ],
        [
         "16",
         "CL",
         "18"
        ],
        [
         "85",
         "UA",
         "17"
        ],
        [
         "42",
         "IL",
         "17"
        ],
        [
         "57",
         "MT",
         "15"
        ],
        [
         "27",
         "EE",
         "12"
        ],
        [
         "52",
         "LB",
         "12"
        ],
        [
         "20",
         "CY",
         "12"
        ],
        [
         "84",
         "TW",
         "11"
        ],
        [
         "23",
         "DK",
         "11"
        ],
        [
         "77",
         "SE",
         "11"
        ],
        [
         "70",
         "PR",
         "10"
        ],
        [
         "21",
         "CZ",
         "10"
        ],
        [
         "61",
         "NG",
         "10"
        ],
        [
         "2",
         "AM",
         "9"
        ],
        [
         "39",
         "HU",
         "8"
        ],
        [
         "66",
         "PE",
         "8"
        ],
        [
         "51",
         "KR",
         "8"
        ],
        [
         "75",
         "RU",
         "7"
        ]
       ],
       "shape": {
        "columns": 2,
        "rows": 92
       }
      },
      "text/html": [
       "<div>\n",
       "<style scoped>\n",
       "    .dataframe tbody tr th:only-of-type {\n",
       "        vertical-align: middle;\n",
       "    }\n",
       "\n",
       "    .dataframe tbody tr th {\n",
       "        vertical-align: top;\n",
       "    }\n",
       "\n",
       "    .dataframe thead th {\n",
       "        text-align: right;\n",
       "    }\n",
       "</style>\n",
       "<table border=\"1\" class=\"dataframe\">\n",
       "  <thead>\n",
       "    <tr style=\"text-align: right;\">\n",
       "      <th></th>\n",
       "      <th>company_location</th>\n",
       "      <th>salary_in_usd</th>\n",
       "    </tr>\n",
       "  </thead>\n",
       "  <tbody>\n",
       "    <tr>\n",
       "      <th>86</th>\n",
       "      <td>US</td>\n",
       "      <td>94834</td>\n",
       "    </tr>\n",
       "    <tr>\n",
       "      <th>12</th>\n",
       "      <td>CA</td>\n",
       "      <td>3987</td>\n",
       "    </tr>\n",
       "    <tr>\n",
       "      <th>32</th>\n",
       "      <td>GB</td>\n",
       "      <td>2962</td>\n",
       "    </tr>\n",
       "    <tr>\n",
       "      <th>6</th>\n",
       "      <td>AU</td>\n",
       "      <td>378</td>\n",
       "    </tr>\n",
       "    <tr>\n",
       "      <th>22</th>\n",
       "      <td>DE</td>\n",
       "      <td>311</td>\n",
       "    </tr>\n",
       "    <tr>\n",
       "      <th>...</th>\n",
       "      <td>...</td>\n",
       "      <td>...</td>\n",
       "    </tr>\n",
       "    <tr>\n",
       "      <th>34</th>\n",
       "      <td>GI</td>\n",
       "      <td>1</td>\n",
       "    </tr>\n",
       "    <tr>\n",
       "      <th>17</th>\n",
       "      <td>CN</td>\n",
       "      <td>1</td>\n",
       "    </tr>\n",
       "    <tr>\n",
       "      <th>13</th>\n",
       "      <td>CD</td>\n",
       "      <td>1</td>\n",
       "    </tr>\n",
       "    <tr>\n",
       "      <th>11</th>\n",
       "      <td>BS</td>\n",
       "      <td>1</td>\n",
       "    </tr>\n",
       "    <tr>\n",
       "      <th>91</th>\n",
       "      <td>ZM</td>\n",
       "      <td>1</td>\n",
       "    </tr>\n",
       "  </tbody>\n",
       "</table>\n",
       "<p>92 rows × 2 columns</p>\n",
       "</div>"
      ],
      "text/plain": [
       "   company_location  salary_in_usd\n",
       "86               US          94834\n",
       "12               CA           3987\n",
       "32               GB           2962\n",
       "6                AU            378\n",
       "22               DE            311\n",
       "..              ...            ...\n",
       "34               GI              1\n",
       "17               CN              1\n",
       "13               CD              1\n",
       "11               BS              1\n",
       "91               ZM              1\n",
       "\n",
       "[92 rows x 2 columns]"
      ]
     },
     "execution_count": 69,
     "metadata": {},
     "output_type": "execute_result"
    }
   ],
   "source": [
    "#count of employees by country\n",
    "df.groupby([\"company_location\"])[\"salary_in_usd\"].count().reset_index().sort_values(\"salary_in_usd\",ascending=False)"
   ]
  },
  {
   "cell_type": "code",
   "execution_count": 70,
   "id": "a0575365",
   "metadata": {},
   "outputs": [
    {
     "data": {
      "application/vnd.microsoft.datawrangler.viewer.v0+json": {
       "columns": [
        {
         "name": "company_location",
         "rawType": "object",
         "type": "string"
        },
        {
         "name": "salary_in_usd",
         "rawType": "float64",
         "type": "float"
        }
       ],
       "ref": "2712786a-b1ab-4534-bda2-b358a8455370",
       "rows": [
        [
         "AD",
         "50745.0"
        ],
        [
         "AE",
         "95000.0"
        ],
        [
         "AM",
         "46200.0"
        ],
        [
         "AR",
         "66600.0"
        ],
        [
         "AS",
         "38500.0"
        ],
        [
         "AT",
         "55426.0"
        ],
        [
         "AU",
         "115341.5"
        ],
        [
         "BA",
         "75000.0"
        ],
        [
         "BE",
         "94444.0"
        ],
        [
         "BG",
         "111111.0"
        ],
        [
         "BR",
         "54000.0"
        ],
        [
         "BS",
         "45555.0"
        ],
        [
         "CA",
         "120000.0"
        ],
        [
         "CD",
         "80000.0"
        ],
        [
         "CF",
         "49216.0"
        ],
        [
         "CH",
         "113636.0"
        ],
        [
         "CL",
         "38019.0"
        ],
        [
         "CN",
         "100000.0"
        ],
        [
         "CO",
         "60000.0"
        ],
        [
         "CR",
         "45000.0"
        ],
        [
         "CY",
         "46666.5"
        ],
        [
         "CZ",
         "65666.0"
        ],
        [
         "DE",
         "86000.0"
        ],
        [
         "DK",
         "95588.0"
        ],
        [
         "DO",
         "16000.0"
        ],
        [
         "DZ",
         "100000.0"
        ],
        [
         "EC",
         "16000.0"
        ],
        [
         "EE",
         "42025.5"
        ],
        [
         "EG",
         "110100.0"
        ],
        [
         "ES",
         "48585.0"
        ],
        [
         "FI",
         "62631.0"
        ],
        [
         "FR",
         "57781.5"
        ],
        [
         "GB",
         "75000.0"
        ],
        [
         "GH",
         "30000.0"
        ],
        [
         "GI",
         "79976.0"
        ],
        [
         "GR",
         "45813.0"
        ],
        [
         "HK",
         "150000.0"
        ],
        [
         "HN",
         "58000.0"
        ],
        [
         "HR",
         "45618.0"
        ],
        [
         "HU",
         "21162.0"
        ],
        [
         "ID",
         "63774.0"
        ],
        [
         "IE",
         "98400.0"
        ],
        [
         "IL",
         "116756.0"
        ],
        [
         "IN",
         "33808.0"
        ],
        [
         "IQ",
         "100000.0"
        ],
        [
         "IR",
         "100000.0"
        ],
        [
         "IT",
         "71475.0"
        ],
        [
         "JM",
         "39398.0"
        ],
        [
         "JO",
         "45000.0"
        ],
        [
         "JP",
         "76482.0"
        ]
       ],
       "shape": {
        "columns": 1,
        "rows": 92
       }
      },
      "text/plain": [
       "company_location\n",
       "AD     50745.0\n",
       "AE     95000.0\n",
       "AM     46200.0\n",
       "AR     66600.0\n",
       "AS     38500.0\n",
       "        ...   \n",
       "VE    192500.0\n",
       "VN     60000.0\n",
       "XK     41052.0\n",
       "ZA     55328.0\n",
       "ZM     60000.0\n",
       "Name: salary_in_usd, Length: 92, dtype: float64"
      ]
     },
     "execution_count": 70,
     "metadata": {},
     "output_type": "execute_result"
    }
   ],
   "source": [
    "df.groupby([\"company_location\"])[\"salary_in_usd\"].median()"
   ]
  },
  {
   "cell_type": "markdown",
   "id": "c5c6517f",
   "metadata": {},
   "source": [
    "### is there an association between experience level and job title?\n",
    "\n",
    "- Variable 1: experience_level — categorical (e.g., EN, MI, SE, EX)\n",
    "- Variable 2: job_title — categorical (e.g., Data Scientist, ML Engineer, Analyst, etc.)\n",
    "\n",
    "<br>\n",
    "<br>\n",
    "\n",
    "- H0 → There is a significant association between experience level and job title. (They are dependent.)\n",
    "- H1 → No evidence of a relationship; they are independent.\n",
    "\n",
    "<br>\n",
    "\n",
    "- p < 0.05 Reject H₀ \n",
    "- p ≥ 0.05 Fail to reject H₀\n",
    "\n",
    "\n"
   ]
  },
  {
   "cell_type": "code",
   "execution_count": 74,
   "id": "08637d51",
   "metadata": {},
   "outputs": [
    {
     "name": "stdout",
     "output_type": "stream",
     "text": [
      "Chi-square statistic: 48979.59617696266\n",
      "Degrees of freedom: 723\n",
      "P-value: 0.0\n"
     ]
    }
   ],
   "source": [
    "# Create contingency table\n",
    "table = pd.crosstab(df[\"experience_level\"], df[\"job_title\"])\n",
    "\n",
    "# Perform chi-square test\n",
    "chi2, p, dof, expected = chi2_contingency(table)\n",
    "\n",
    "print(\"Chi-square statistic:\", chi2)\n",
    "print(\"Degrees of freedom:\", dof)\n",
    "print(\"P-value:\", p)"
   ]
  },
  {
   "cell_type": "markdown",
   "id": "2fae18e2",
   "metadata": {},
   "source": [
    "### Linear Regression\n",
    "\n",
    "<p> To see how the independent variables influence the dependant variable salary<p>"
   ]
  },
  {
   "cell_type": "code",
   "execution_count": 75,
   "id": "a433f878",
   "metadata": {},
   "outputs": [],
   "source": [
    "# Assume df is your salaries dataset\n",
    "categorical_cols = ['job_title', 'employee_residence', 'company_location',\"employment_type\"]\n",
    "\n",
    "df_encoded = pd.get_dummies(df, columns=categorical_cols, drop_first=True)"
   ]
  },
  {
   "cell_type": "code",
   "execution_count": 76,
   "id": "73b7922d",
   "metadata": {},
   "outputs": [],
   "source": [
    "from statsmodels.formula.api import ols\n",
    "\n",
    "model = ols('salary_in_usd ~ C(experience_level) + C(remote_ratio) + C(company_size)', data=df).fit()\n"
   ]
  },
  {
   "cell_type": "code",
   "execution_count": 77,
   "id": "986ba398",
   "metadata": {},
   "outputs": [
    {
     "name": "stdout",
     "output_type": "stream",
     "text": [
      "                            OLS Regression Results                            \n",
      "==============================================================================\n",
      "Dep. Variable:          salary_in_usd   R-squared:                       0.110\n",
      "Model:                            OLS   Adj. R-squared:                  0.110\n",
      "Method:                 Least Squares   F-statistic:                     1858.\n",
      "Date:                Thu, 16 Oct 2025   Prob (F-statistic):               0.00\n",
      "Time:                        21:37:09   Log-Likelihood:            -1.3261e+06\n",
      "No. Observations:              105434   AIC:                         2.652e+06\n",
      "Df Residuals:                  105426   BIC:                         2.652e+06\n",
      "Df Model:                           7                                         \n",
      "Covariance Type:            nonrobust                                         \n",
      "============================================================================================\n",
      "                               coef    std err          t      P>|t|      [0.025      0.975]\n",
      "--------------------------------------------------------------------------------------------\n",
      "Intercept                 6.397e+04   4924.358     12.990      0.000    5.43e+04    7.36e+04\n",
      "C(experience_level)[T.2]  4.383e+04    807.490     54.276      0.000    4.22e+04    4.54e+04\n",
      "C(experience_level)[T.3]  7.407e+04    761.464     97.273      0.000    7.26e+04    7.56e+04\n",
      "C(experience_level)[T.4]  1.034e+05   1625.289     63.608      0.000       1e+05    1.07e+05\n",
      "C(remote_ratio)[T.50]    -5.939e+04   4154.224    -14.295      0.000   -6.75e+04   -5.12e+04\n",
      "C(remote_ratio)[T.100]   -1.437e+04    534.110    -26.904      0.000   -1.54e+04   -1.33e+04\n",
      "C(company_size)[T.2]      3.855e+04   4892.974      7.878      0.000     2.9e+04    4.81e+04\n",
      "C(company_size)[T.3]      4.427e+04   5016.159      8.825      0.000    3.44e+04    5.41e+04\n",
      "==============================================================================\n",
      "Omnibus:                    37135.198   Durbin-Watson:                   1.810\n",
      "Prob(Omnibus):                  0.000   Jarque-Bera (JB):           227699.359\n",
      "Skew:                           1.566   Prob(JB):                         0.00\n",
      "Kurtosis:                       9.482   Cond. No.                         61.6\n",
      "==============================================================================\n",
      "\n",
      "Notes:\n",
      "[1] Standard Errors assume that the covariance matrix of the errors is correctly specified.\n"
     ]
    }
   ],
   "source": [
    "print(model.summary())"
   ]
  },
  {
   "cell_type": "code",
   "execution_count": 78,
   "id": "3d528f57",
   "metadata": {},
   "outputs": [
    {
     "name": "stdout",
     "output_type": "stream",
     "text": [
      "                           sum_sq        df            F         PR(>F)\n",
      "C(experience_level)  5.986007e+13       3.0  4049.052761   0.000000e+00\n",
      "C(remote_ratio)      4.480907e+12       2.0   454.645964  2.491146e-197\n",
      "C(company_size)      4.120951e+11       2.0    41.812381   7.051994e-19\n",
      "Residual             5.195296e+14  105426.0          NaN            NaN\n"
     ]
    }
   ],
   "source": [
    "anova_table = sm.stats.anova_lm(model, typ=2)\n",
    "print(anova_table)"
   ]
  },
  {
   "cell_type": "code",
   "execution_count": null,
   "id": "e29700ed",
   "metadata": {},
   "outputs": [],
   "source": []
  }
 ],
 "metadata": {
  "kernelspec": {
   "display_name": ".venv",
   "language": "python",
   "name": "python3"
  },
  "language_info": {
   "codemirror_mode": {
    "name": "ipython",
    "version": 3
   },
   "file_extension": ".py",
   "mimetype": "text/x-python",
   "name": "python",
   "nbconvert_exporter": "python",
   "pygments_lexer": "ipython3",
   "version": "3.13.4"
  }
 },
 "nbformat": 4,
 "nbformat_minor": 5
}
